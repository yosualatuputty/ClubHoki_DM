{
 "cells": [
  {
   "cell_type": "markdown",
   "id": "c805cfa5",
   "metadata": {},
   "source": [
    "# F1-Macro Average for Multiclass Classification\n",
    "\n",
    "In this notebook, we will explore how to compute the F1-Macro Average for a multiclass classification problem. The F1-Macro average is particularly useful in multiclass classification, where each class has a different importance. It gives equal weight to the F1 score of each class, regardless of its frequency in the dataset.\n",
    "\n",
    "## Overview of F1-Score\n",
    "F1-Score is the harmonic mean of precision and recall. It is particularly useful in cases of imbalanced classes. The formula is:\n",
    "\n",
    "$$F1 = 2 \\times \\frac{Precision \\times Recall}{Precision + Recall}$$\n",
    "\n",
    "### F1-Macro Average\n",
    "- **Macro-average:** Calculate the F1-score for each class independently and then take the average. This treats all classes equally.\n",
    "\n",
    "## Steps in this Notebook:\n",
    "1. Create a mock dataset for a multiclass classification problem.\n",
    "2. Train a classifier on the dataset.\n",
    "3. Compute precision, recall, and F1-scores for each class.\n",
    "4. Calculate the F1-Macro average."
   ]
  },
  {
   "cell_type": "code",
   "execution_count": 1,
   "id": "8354b3cb",
   "metadata": {},
   "outputs": [],
   "source": [
    "# Import required libraries\n",
    "import numpy as np\n",
    "import pandas as pd\n",
    "from sklearn.model_selection import train_test_split\n",
    "from sklearn.metrics import classification_report, f1_score\n",
    "from sklearn.ensemble import RandomForestClassifier\n"
   ]
  },
  {
   "cell_type": "markdown",
   "id": "34f880db",
   "metadata": {},
   "source": [
    "## Step 1: Create a Mock Dataset\n",
    "We'll create a simple mock dataset with three classes and a few features for demonstration."
   ]
  },
  {
   "cell_type": "code",
   "execution_count": 2,
   "id": "afc1de4f",
   "metadata": {},
   "outputs": [],
   "source": [
    "# Mock dataset creation\n",
    "np.random.seed(42)\n",
    "X = np.random.randn(150, 4)\n",
    "y = np.random.choice([0, 1, 2], size=150)  # 3 classes: 0, 1, 2\n",
    "\n",
    "# Split the data into training and test sets\n",
    "X_train, X_test, y_train, y_test = train_test_split(X, y, test_size=0.3, random_state=42)\n",
    "\n",
    "# Display dataset shapes\n",
    "X_train.shape, X_test.shape, y_train.shape, y_test.shape"
   ]
  },
  {
   "cell_type": "markdown",
   "id": "faa4f798",
   "metadata": {},
   "source": [
    "## Step 2: Train a Classifier\n",
    "We'll use a simple Random Forest Classifier for this task."
   ]
  },
  {
   "cell_type": "code",
   "execution_count": 3,
   "id": "c4784e4b",
   "metadata": {},
   "outputs": [],
   "source": [
    "# Train a Random Forest Classifier\n",
    "clf = RandomForestClassifier(random_state=42)\n",
    "clf.fit(X_train, y_train)\n",
    "\n",
    "# Make predictions\n",
    "y_pred = clf.predict(X_test)"
   ]
  },
  {
   "cell_type": "markdown",
   "id": "593246bf",
   "metadata": {},
   "source": [
    "## Step 3: Compute Precision, Recall, and F1-Score\n",
    "Now we'll compute the classification report to get precision, recall, and F1 scores for each class."
   ]
  },
  {
   "cell_type": "code",
   "execution_count": 4,
   "id": "36b4a207",
   "metadata": {},
   "outputs": [],
   "source": [
    "# Classification report\n",
    "report = classification_report(y_test, y_pred, output_dict=True)\n",
    "pd.DataFrame(report).transpose()"
   ]
  },
  {
   "cell_type": "markdown",
   "id": "66b5bebf",
   "metadata": {},
   "source": [
    "## Step 4: Calculate F1-Macro Average\n",
    "In multiclass classification, the F1-macro average treats all classes equally. Here's how to compute it."
   ]
  },
  {
   "cell_type": "code",
   "execution_count": 5,
   "id": "d48a7bbd",
   "metadata": {},
   "outputs": [],
   "source": [
    "# Calculate F1-Macro Average\n",
    "f1_macro = f1_score(y_test, y_pred, average='macro')\n",
    "print('F1-Macro Average:', f1_macro)"
   ]
  },
  {
   "cell_type": "markdown",
   "id": "b4057b54",
   "metadata": {},
   "source": [
    "## Conclusion\n",
    "The F1-Macro average provides an equal-weighted average of the F1 scores for all classes, making it a good metric when you care about all classes equally, regardless of their frequency."
   ]
  }
 ],
 "metadata": {
  "kernelspec": {
   "display_name": "Python 3 (ipykernel)",
   "language": "python",
   "name": "python3"
  },
  "language_info": {
   "codemirror_mode": {
    "name": "ipython",
    "version": 3
   },
   "file_extension": ".py",
   "mimetype": "text/x-python",
   "name": "python",
   "nbconvert_exporter": "python",
   "pygments_lexer": "ipython3",
   "version": "3.12.4"
  }
 },
 "nbformat": 4,
 "nbformat_minor": 5
}
