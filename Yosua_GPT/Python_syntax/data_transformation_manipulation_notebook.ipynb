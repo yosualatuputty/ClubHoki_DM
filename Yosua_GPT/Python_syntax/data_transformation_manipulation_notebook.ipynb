{
 "cells": [
  {
   "cell_type": "markdown",
   "id": "36f1c776",
   "metadata": {},
   "source": [
    "# Data Transformation and Manipulation in Python\n",
    "In this notebook, we will go through common Python syntaxes for data transformation, manipulation, and analysis using libraries like Pandas and NumPy.\n"
   ]
  },
  {
   "cell_type": "code",
   "execution_count": null,
   "id": "05f8860e",
   "metadata": {},
   "outputs": [],
   "source": [
    "import pandas as pd\n",
    "import numpy as np\n",
    "\n",
    "# Loading the dataset\n",
    "df = pd.read_csv('your_dataset.csv')\n",
    "\n",
    "# Quick Overview of the Dataset\n",
    "df.head()  # Displays the first few rows of the dataset\n",
    "df.info()  # Provides concise summary of the dataset\n",
    "df.describe()  # Generates descriptive statistics\n"
   ]
  },
  {
   "cell_type": "markdown",
   "id": "4e78df12",
   "metadata": {},
   "source": [
    "## 1. Handling Missing Data\n",
    "Dealing with missing data is a key aspect of data preprocessing."
   ]
  },
  {
   "cell_type": "code",
   "execution_count": null,
   "id": "cb317b94",
   "metadata": {},
   "outputs": [],
   "source": [
    "# Checking for missing values\n",
    "df.isnull().sum()  # Summarize the number of missing values in each column\n",
    "\n",
    "# Filling missing values\n",
    "df.fillna(df.mean(), inplace=True)  # Fill NaN with mean for numerical columns\n",
    "df.fillna(df.mode().iloc[0], inplace=True)  # Fill NaN with mode for categorical columns\n",
    "# Dropping missing values\n",
    "df.dropna(inplace=True)  # Drop rows with missing values\n"
   ]
  },
  {
   "cell_type": "markdown",
   "id": "d5fa0bdc",
   "metadata": {},
   "source": [
    "## 2. Data Transformation\n",
    "Data transformation is a process of converting data from one format or structure to another."
   ]
  },
  {
   "cell_type": "code",
   "execution_count": null,
   "id": "0a5963c7",
   "metadata": {},
   "outputs": [],
   "source": [
    "# Applying transformations\n",
    "df['log_column'] = np.log(df['column_name'])  # Apply log transformation\n",
    "\n",
    "# Standardizing data (Z-score normalization)\n",
    "df['standardized'] = (df['column_name'] - df['column_name'].mean()) / df['column_name'].std()\n",
    "\n",
    "# Min-Max Scaling\n",
    "df['scaled'] = (df['column_name'] - df['column_name'].min()) / (df['column_name'].max() - df['column_name'].min())\n"
   ]
  },
  {
   "cell_type": "markdown",
   "id": "ca0c96c4",
   "metadata": {},
   "source": [
    "## 3. Feature Engineering\n",
    "Creating new features to improve model performance."
   ]
  },
  {
   "cell_type": "code",
   "execution_count": null,
   "id": "841cea48",
   "metadata": {},
   "outputs": [],
   "source": [
    "# Creating new features\n",
    "df['new_feature'] = df['existing_feature_1'] / df['existing_feature_2']  # Example: Ratio\n",
    "\n",
    "# Encoding categorical variables\n",
    "df = pd.get_dummies(df, columns=['categorical_column'])  # One-Hot Encoding\n"
   ]
  },
  {
   "cell_type": "markdown",
   "id": "fa14cf8a",
   "metadata": {},
   "source": [
    "## 4. Grouping and Aggregation\n",
    "Aggregate data based on certain categories or features."
   ]
  },
  {
   "cell_type": "code",
   "execution_count": null,
   "id": "452c79cf",
   "metadata": {},
   "outputs": [],
   "source": [
    "# Grouping data and aggregating\n",
    "grouped = df.groupby('category_column').agg({'numerical_column': 'mean'})  # Aggregate by mean\n",
    "grouped\n"
   ]
  },
  {
   "cell_type": "markdown",
   "id": "ac0715da",
   "metadata": {},
   "source": [
    "## 5. Data Filtering and Sorting\n",
    "Select specific subsets of data."
   ]
  },
  {
   "cell_type": "code",
   "execution_count": null,
   "id": "ba561755",
   "metadata": {},
   "outputs": [],
   "source": [
    "# Filtering data based on conditions\n",
    "filtered_data = df[df['column_name'] > threshold]  # Example: filter by a threshold\n",
    "\n",
    "# Sorting data\n",
    "sorted_data = df.sort_values(by='column_name', ascending=False)  # Sort values in descending order\n"
   ]
  },
  {
   "cell_type": "markdown",
   "id": "9a17c8ff",
   "metadata": {},
   "source": [
    "## 6. Merging and Joining Datasets\n",
    "Combine multiple datasets together."
   ]
  },
  {
   "cell_type": "code",
   "execution_count": null,
   "id": "548d8dbb",
   "metadata": {},
   "outputs": [],
   "source": [
    "# Merging two datasets\n",
    "merged_df = pd.merge(df1, df2, on='common_column', how='inner')  # Inner join\n"
   ]
  },
  {
   "cell_type": "markdown",
   "id": "72cf5c30",
   "metadata": {},
   "source": [
    "## 7. Pivot Tables\n",
    "Create a pivot table for summarizing and analyzing data."
   ]
  },
  {
   "cell_type": "code",
   "execution_count": null,
   "id": "a3676738",
   "metadata": {},
   "outputs": [],
   "source": [
    "# Creating a pivot table\n",
    "pivot_table = df.pivot_table(index='category_column', values='numerical_column', aggfunc='mean')\n",
    "pivot_table\n"
   ]
  },
  {
   "cell_type": "markdown",
   "id": "d24b1939",
   "metadata": {},
   "source": [
    "## 8. Data Visualization\n",
    "Visualizing data for insights."
   ]
  },
  {
   "cell_type": "code",
   "execution_count": null,
   "id": "fa75b956",
   "metadata": {},
   "outputs": [],
   "source": [
    "import matplotlib.pyplot as plt\n",
    "import seaborn as sns\n",
    "\n",
    "# Visualizing correlation heatmap\n",
    "corr_matrix = df.corr()\n",
    "sns.heatmap(corr_matrix, annot=True, cmap='coolwarm')\n",
    "plt.show()\n",
    "\n",
    "# Scatter plot\n",
    "plt.scatter(df['x_column'], df['y_column'])\n",
    "plt.xlabel('X Label')\n",
    "plt.ylabel('Y Label')\n",
    "plt.title('Scatter Plot')\n",
    "plt.show()\n"
   ]
  }
 ],
 "metadata": {
  "kernelspec": {
   "display_name": "Python 3 (ipykernel)",
   "language": "python",
   "name": "python3"
  },
  "language_info": {
   "codemirror_mode": {
    "name": "ipython",
    "version": 3
   },
   "file_extension": ".py",
   "mimetype": "text/x-python",
   "name": "python",
   "nbconvert_exporter": "python",
   "pygments_lexer": "ipython3",
   "version": "3.12.4"
  }
 },
 "nbformat": 4,
 "nbformat_minor": 5
}
