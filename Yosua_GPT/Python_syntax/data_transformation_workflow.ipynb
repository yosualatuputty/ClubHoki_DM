{
 "cells": [
  {
   "cell_type": "markdown",
   "metadata": {},
   "source": [
    "# Data Transformation & Manipulation Techniques in Python\n",
    "This notebook covers the most commonly used Python syntaxes for transforming and manipulating data during data analysis.\n",
    "We will use Pandas as the primary library for these operations."
   ]
  },
  {
   "cell_type": "markdown",
   "metadata": {},
   "source": [
    "### 1. Importing Libraries and Loading Data\n",
    "Before starting, let's import the necessary libraries and load the dataset."
   ]
  },
  {
   "cell_type": "code",
   "execution_count": null,
   "metadata": {},
   "outputs": [],
   "source": [
    "import pandas as pd\n",
    "import numpy as np\n",
    "\n",
    "# Example dataset\n",
    "data = {'A': [1, 2, np.nan, 4, 5],\n",
    "        'B': [5, np.nan, np.nan, 8, 10],\n",
    "        'C': ['foo', 'bar', 'foo', 'bar', np.nan],\n",
    "        'D': ['2020-01-01', '2020-01-02', '2020-01-03', '2020-01-04', '2020-01-05']}\n",
    "\n",
    "df = pd.DataFrame(data)\n",
    "df['D'] = pd.to_datetime(df['D'])\n",
    "df"
   ]
  },
  {
   "cell_type": "markdown",
   "metadata": {},
   "source": [
    "### 2. Handling Missing Data\n",
    "Handling missing data is a crucial step in any data transformation process."
   ]
  },
  {
   "cell_type": "code",
   "execution_count": null,
   "metadata": {},
   "outputs": [],
   "source": [
    "# Fill missing values with mean/median for numeric columns\n",
    "df['A'].fillna(df['A'].mean(), inplace=True)\n",
    "df['B'].fillna(df['B'].median(), inplace=True)\n",
    "\n",
    "# Fill missing values with mode for categorical columns\n",
    "df['C'].fillna(df['C'].mode()[0], inplace=True)\n",
    "df"
   ]
  },
  {
   "cell_type": "markdown",
   "metadata": {},
   "source": [
    "### 3. Feature Engineering & Transformation\n",
    "Creating and transforming features is often essential to enhance predictive power."
   ]
  },
  {
   "cell_type": "code",
   "execution_count": null,
   "metadata": {},
   "outputs": [],
   "source": [
    "# Creating a new feature based on existing ones\n",
    "df['E'] = df['A'] * df['B']  # Multiply two columns\n",
    "\n",
    "# Transforming a column using a custom function\n",
    "df['F'] = df['A'].apply(lambda x: np.log(x) if x > 0 else 0)\n",
    "df"
   ]
  },
  {
   "cell_type": "markdown",
   "metadata": {},
   "source": [
    "### 4. Grouping and Aggregation\n",
    "Grouping data and applying aggregation functions is key in summarizing information."
   ]
  },
  {
   "cell_type": "code",
   "execution_count": null,
   "metadata": {},
   "outputs": [],
   "source": [
    "# Grouping by column 'C' and aggregating\n",
    "grouped_df = df.groupby('C').agg({'A': 'mean', 'B': 'sum'})\n",
    "grouped_df"
   ]
  },
  {
   "cell_type": "markdown",
   "metadata": {},
   "source": [
    "### 5. Merging and Joining DataFrames\n",
    "Merging multiple datasets together is often required during data analysis."
   ]
  },
  {
   "cell_type": "code",
   "execution_count": null,
   "metadata": {},
   "outputs": [],
   "source": [
    "# Creating another DataFrame for the merge example\n",
    "df2 = pd.DataFrame({'C': ['foo', 'bar'], 'G': [100, 200]})\n",
    "\n",
    "# Merging df with df2 on column 'C'\n",
    "merged_df = pd.merge(df, df2, on='C', how='left')\n",
    "merged_df"
   ]
  },
  {
   "cell_type": "markdown",
   "metadata": {},
   "source": [
    "### 6. Pivoting and Reshaping Data\n",
    "Pivoting is useful when you need to summarize or rearrange data."
   ]
  },
  {
   "cell_type": "code",
   "execution_count": null,
   "metadata": {},
   "outputs": [],
   "source": [
    "# Example of pivoting a DataFrame\n",
    "pivot_df = df.pivot_table(index='C', values='A', aggfunc='mean')\n",
    "pivot_df"
   ]
  },
  {
   "cell_type": "markdown",
   "metadata": {},
   "source": [
    "### 7. Sorting and Filtering Data\n",
    "Sorting and filtering are essential operations to arrange and subset the data."
   ]
  },
  {
   "cell_type": "code",
   "execution_count": null,
   "metadata": {},
   "outputs": [],
   "source": [
    "# Sorting by column 'A'\n",
    "sorted_df = df.sort_values(by='A', ascending=False)\n",
    "\n",
    "# Filtering rows based on condition\n",
    "filtered_df = df[df['A'] > 2]\n",
    "filtered_df"
   ]
  }
 ],
 "metadata": {
  "kernelspec": {
   "display_name": "Python 3 (ipykernel)",
   "language": "python",
   "name": "python3"
  },
  "language_info": {
   "codemirror_mode": {
    "name": "ipython",
    "version": 3
   },
   "file_extension": ".py",
   "mimetype": "text/x-python",
   "name": "python",
   "nbconvert_exporter": "python",
   "pygments_lexer": "ipython3",
   "version": "3.12.4"
  }
 },
 "nbformat": 4,
 "nbformat_minor": 4
}
