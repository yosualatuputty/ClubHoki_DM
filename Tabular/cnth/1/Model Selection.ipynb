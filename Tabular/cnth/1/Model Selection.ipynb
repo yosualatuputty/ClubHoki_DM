{
 "cells": [
  {
   "cell_type": "code",
   "execution_count": 1,
   "id": "5d860dbd-eb55-4182-ab70-94c4c8940723",
   "metadata": {},
   "outputs": [
    {
     "name": "stdout",
     "output_type": "stream",
     "text": [
      "Requirement already satisfied: statsmodels in /opt/conda/lib/python3.10/site-packages (0.14.0)\n",
      "Requirement already satisfied: packaging>=21.3 in /opt/conda/lib/python3.10/site-packages (from statsmodels) (23.0)\n",
      "Requirement already satisfied: patsy>=0.5.2 in /opt/conda/lib/python3.10/site-packages (from statsmodels) (0.5.3)\n",
      "Requirement already satisfied: pandas>=1.0 in /opt/conda/lib/python3.10/site-packages (from statsmodels) (1.5.3)\n",
      "Requirement already satisfied: numpy>=1.18 in /opt/conda/lib/python3.10/site-packages (from statsmodels) (1.24.1)\n",
      "Requirement already satisfied: scipy!=1.9.2,>=1.4 in /opt/conda/lib/python3.10/site-packages (from statsmodels) (1.10.0)\n",
      "Requirement already satisfied: pytz>=2020.1 in /opt/conda/lib/python3.10/site-packages (from pandas>=1.0->statsmodels) (2022.7.1)\n",
      "Requirement already satisfied: python-dateutil>=2.8.1 in /opt/conda/lib/python3.10/site-packages (from pandas>=1.0->statsmodels) (2.8.2)\n",
      "Requirement already satisfied: six in /opt/conda/lib/python3.10/site-packages (from patsy>=0.5.2->statsmodels) (1.16.0)\n",
      "Requirement already satisfied: xgboost in /opt/conda/lib/python3.10/site-packages (2.0.0)\n",
      "Requirement already satisfied: scipy in /opt/conda/lib/python3.10/site-packages (from xgboost) (1.10.0)\n",
      "Requirement already satisfied: numpy in /opt/conda/lib/python3.10/site-packages (from xgboost) (1.24.1)\n",
      "Requirement already satisfied: lightgbm in /opt/conda/lib/python3.10/site-packages (4.1.0)\n",
      "Requirement already satisfied: numpy in /opt/conda/lib/python3.10/site-packages (from lightgbm) (1.24.1)\n",
      "Requirement already satisfied: scipy in /opt/conda/lib/python3.10/site-packages (from lightgbm) (1.10.0)\n",
      "Requirement already satisfied: catboost in /opt/conda/lib/python3.10/site-packages (1.2.1)\n",
      "Requirement already satisfied: plotly in /opt/conda/lib/python3.10/site-packages (from catboost) (5.16.1)\n",
      "Requirement already satisfied: pandas>=0.24 in /opt/conda/lib/python3.10/site-packages (from catboost) (1.5.3)\n",
      "Requirement already satisfied: graphviz in /opt/conda/lib/python3.10/site-packages (from catboost) (0.20.1)\n",
      "Requirement already satisfied: numpy>=1.16.0 in /opt/conda/lib/python3.10/site-packages (from catboost) (1.24.1)\n",
      "Requirement already satisfied: six in /opt/conda/lib/python3.10/site-packages (from catboost) (1.16.0)\n",
      "Requirement already satisfied: scipy in /opt/conda/lib/python3.10/site-packages (from catboost) (1.10.0)\n",
      "Requirement already satisfied: matplotlib in /opt/conda/lib/python3.10/site-packages (from catboost) (3.6.3)\n",
      "Requirement already satisfied: python-dateutil>=2.8.1 in /opt/conda/lib/python3.10/site-packages (from pandas>=0.24->catboost) (2.8.2)\n",
      "Requirement already satisfied: pytz>=2020.1 in /opt/conda/lib/python3.10/site-packages (from pandas>=0.24->catboost) (2022.7.1)\n",
      "Requirement already satisfied: kiwisolver>=1.0.1 in /opt/conda/lib/python3.10/site-packages (from matplotlib->catboost) (1.4.4)\n",
      "Requirement already satisfied: cycler>=0.10 in /opt/conda/lib/python3.10/site-packages (from matplotlib->catboost) (0.11.0)\n",
      "Requirement already satisfied: pillow>=6.2.0 in /opt/conda/lib/python3.10/site-packages (from matplotlib->catboost) (9.4.0)\n",
      "Requirement already satisfied: fonttools>=4.22.0 in /opt/conda/lib/python3.10/site-packages (from matplotlib->catboost) (4.38.0)\n",
      "Requirement already satisfied: contourpy>=1.0.1 in /opt/conda/lib/python3.10/site-packages (from matplotlib->catboost) (1.0.7)\n",
      "Requirement already satisfied: packaging>=20.0 in /opt/conda/lib/python3.10/site-packages (from matplotlib->catboost) (23.0)\n",
      "Requirement already satisfied: pyparsing>=2.2.1 in /opt/conda/lib/python3.10/site-packages (from matplotlib->catboost) (3.0.9)\n",
      "Requirement already satisfied: tenacity>=6.2.0 in /opt/conda/lib/python3.10/site-packages (from plotly->catboost) (8.2.3)\n"
     ]
    }
   ],
   "source": [
    "!pip install statsmodels\n",
    "!pip install xgboost\n",
    "!pip install lightgbm\n",
    "!pip install catboost"
   ]
  },
  {
   "cell_type": "code",
   "execution_count": 2,
   "id": "d152af1f-6b2d-4491-a32c-957e3c403438",
   "metadata": {},
   "outputs": [],
   "source": [
    "import os\n",
    "import pandas as pd\n",
    "import numpy as np\n",
    "import tensorflow as tf\n",
    "import matplotlib.pyplot as plt\n",
    "import sklearn"
   ]
  },
  {
   "cell_type": "code",
   "execution_count": 3,
   "id": "8277a64a-ff71-4f8c-b810-6741274011dd",
   "metadata": {},
   "outputs": [],
   "source": [
    "from sklearn.model_selection import GridSearchCV, train_test_split\n",
    "\n",
    "# Import Classifier Model\n",
    "from sklearn.linear_model import LogisticRegression # Logistic Regression\n",
    "from sklearn.svm import SVC # Support Vector Machine\n",
    "from sklearn.naive_bayes import GaussianNB # Import Gaussian Naive Bayes\n",
    "from sklearn.naive_bayes import MultinomialNB # Import Multinomial Naive Bayes\n",
    "from sklearn.linear_model import SGDClassifier # Stochastic Gradient Descent\n",
    "from sklearn.neighbors import KNeighborsClassifier # K Nearest Neighbor\n",
    "from sklearn.tree import DecisionTreeClassifier # Import Decision Tree Classifier\n",
    "from sklearn.ensemble import RandomForestClassifier # Random Forest\n",
    "from xgboost.sklearn import XGBClassifier #XGBoost\n",
    "\n",
    "# Import Regressor Model\n",
    "from sklearn.linear_model import LinearRegression\n",
    "from lightgbm import LGBMRegressor\n",
    "from xgboost.sklearn import XGBRegressor\n",
    "from catboost import CatBoostRegressor\n",
    "from sklearn.linear_model import SGDRegressor\n",
    "from sklearn.kernel_ridge import KernelRidge\n",
    "from sklearn.linear_model import ElasticNet\n",
    "from sklearn.linear_model import BayesianRidge\n",
    "from sklearn.ensemble import GradientBoostingRegressor\n",
    "from sklearn.svm import SVR\n",
    "\n",
    "from sklearn.metrics import confusion_matrix, accuracy_score, f1_score, recall_score, precision_score, mean_squared_error, mean_absolute_error, mean_absolute_percentage_error"
   ]
  },
  {
   "cell_type": "code",
   "execution_count": 4,
   "id": "d0a6290b-296e-4cf7-b22b-221ffa1f1b60",
   "metadata": {},
   "outputs": [],
   "source": [
    "from statsmodels.tsa.ar_model import AutoReg\n",
    "from statsmodels.tsa.arima_model import ARMA\n",
    "from statsmodels.tsa.arima_model import ARMA\n",
    "from statsmodels.tsa.arima_model import ARIMA\n",
    "from statsmodels.tsa.statespace.sarimax import SARIMAX\n",
    "from statsmodels.tsa.vector_ar.var_model import VAR\n",
    "from statsmodels.tsa.statespace.varmax import VARMAX\n",
    "from statsmodels.tsa.holtwinters import SimpleExpSmoothing\n",
    "from statsmodels.tsa.holtwinters import ExponentialSmoothing"
   ]
  },
  {
   "cell_type": "code",
   "execution_count": 5,
   "id": "a2575252-a3f4-42ee-b097-8f38f278241b",
   "metadata": {},
   "outputs": [
    {
     "name": "stdout",
     "output_type": "stream",
     "text": [
      "2.8.2\n"
     ]
    }
   ],
   "source": [
    "print(tf.__version__)"
   ]
  },
  {
   "cell_type": "code",
   "execution_count": 93,
   "id": "8ae722dc-e1f0-40dc-8fe2-92f759fc2d2b",
   "metadata": {},
   "outputs": [
    {
     "name": "stdout",
     "output_type": "stream",
     "text": [
      "<class 'pandas.core.frame.DataFrame'>\n",
      "RangeIndex: 54480 entries, 0 to 54479\n",
      "Data columns (total 13 columns):\n",
      " #   Column               Non-Null Count  Dtype  \n",
      "---  ------               --------------  -----  \n",
      " 0   remote_user          54480 non-null  object \n",
      " 1   hostname             54480 non-null  object \n",
      " 2   status               54480 non-null  int64  \n",
      " 3   body_bytes_sent      54480 non-null  int64  \n",
      " 4   request_method       54480 non-null  object \n",
      " 5   request_length       54480 non-null  int64  \n",
      " 6   bytes_sent           54480 non-null  int64  \n",
      " 7   request_time         54480 non-null  float64\n",
      " 8   upstream_status      54480 non-null  int64  \n",
      " 9   connection           54480 non-null  int64  \n",
      " 10  connection_requests  54480 non-null  int64  \n",
      " 11  agent.ip             54480 non-null  object \n",
      " 12  rule.mitre.tactic    54480 non-null  object \n",
      "dtypes: float64(1), int64(7), object(5)\n",
      "memory usage: 5.4+ MB\n"
     ]
    }
   ],
   "source": [
    "df = pd.read_csv('../self/df_pre.csv')\n",
    "df.info()"
   ]
  },
  {
   "cell_type": "code",
   "execution_count": 110,
   "id": "b0ea23e7-1166-4f64-b1b2-1063266bf599",
   "metadata": {},
   "outputs": [
    {
     "data": {
      "text/plain": [
       "0    52101\n",
       "1     1784\n",
       "3      561\n",
       "2       29\n",
       "5        4\n",
       "4        1\n",
       "Name: rule.mitre.tactic, dtype: int64"
      ]
     },
     "execution_count": 110,
     "metadata": {},
     "output_type": "execute_result"
    }
   ],
   "source": [
    "df['rule.mitre.tactic'].value_counts()"
   ]
  },
  {
   "cell_type": "code",
   "execution_count": 94,
   "id": "6ce145fc-a8e8-449b-a10c-4f15f660376e",
   "metadata": {},
   "outputs": [
    {
     "data": {
      "image/png": "[encoded data removed]",
      "text/plain": [
       "<Figure size 432x288 with 1 Axes>"
      ]
     },
     "metadata": {
      "needs_background": "light"
     },
     "output_type": "display_data"
    }
   ],
   "source": [
    "df['rule.mitre.tactic'].value_counts().plot(kind='bar')\n",
    "plt.title('# of label in each class')\n",
    "plt.show()"
   ]
  },
  {
   "cell_type": "code",
   "execution_count": 95,
   "id": "22e86ad9-b139-42c3-938c-6f3ca50d45d5",
   "metadata": {},
   "outputs": [
    {
     "name": "stdout",
     "output_type": "stream",
     "text": [
      "Unique value in col remote_user (object) - 3\n",
      "Unique value in col hostname (object) - 1\n",
      "Unique value in col status (int64) - 14\n",
      "Unique value in col body_bytes_sent (int64) - 816\n",
      "Unique value in col request_method (object) - 3\n",
      "Unique value in col request_length (int64) - 1194\n",
      "Unique value in col bytes_sent (int64) - 973\n",
      "Unique value in col request_time (float64) - 1073\n",
      "Unique value in col upstream_status (int64) - 14\n",
      "Unique value in col connection (int64) - 46530\n",
      "Unique value in col connection_requests (int64) - 551\n",
      "Unique value in col agent.ip (object) - 1\n",
      "Unique value in col rule.mitre.tactic (object) - 6\n"
     ]
    }
   ],
   "source": [
    "for col in df:\n",
    "    print(f'Unique value in col {col} ({df[col].dtype}) - {df[col].nunique()}')"
   ]
  },
  {
   "cell_type": "code",
   "execution_count": 96,
   "id": "3290841e-bdb6-4549-9a11-37e34850bbb6",
   "metadata": {},
   "outputs": [
    {
     "data": {
      "text/html": [
       "<div>\n",
       "<style scoped>\n",
       "    .dataframe tbody tr th:only-of-type {\n",
       "        vertical-align: middle;\n",
       "    }\n",
       "\n",
       "    .dataframe tbody tr th {\n",
       "        vertical-align: top;\n",
       "    }\n",
       "\n",
       "    .dataframe thead th {\n",
       "        text-align: right;\n",
       "    }\n",
       "</style>\n",
       "<table border=\"1\" class=\"dataframe\">\n",
       "  <thead>\n",
       "    <tr style=\"text-align: right;\">\n",
       "      <th></th>\n",
       "      <th>remote_user</th>\n",
       "      <th>hostname</th>\n",
       "      <th>status</th>\n",
       "      <th>body_bytes_sent</th>\n",
       "      <th>request_method</th>\n",
       "      <th>request_length</th>\n",
       "      <th>bytes_sent</th>\n",
       "      <th>request_time</th>\n",
       "      <th>upstream_status</th>\n",
       "      <th>connection</th>\n",
       "      <th>connection_requests</th>\n",
       "      <th>agent.ip</th>\n",
       "      <th>rule.mitre.tactic</th>\n",
       "    </tr>\n",
       "  </thead>\n",
       "  <tbody>\n",
       "    <tr>\n",
       "      <th>22171</th>\n",
       "      <td>-</td>\n",
       "      <td>vm-director-nginx</td>\n",
       "      <td>200</td>\n",
       "      <td>956</td>\n",
       "      <td>POST</td>\n",
       "      <td>684</td>\n",
       "      <td>1224</td>\n",
       "      <td>0.006</td>\n",
       "      <td>200</td>\n",
       "      <td>701008974</td>\n",
       "      <td>1</td>\n",
       "      <td>192.168.1.99</td>\n",
       "      <td>[\"Credential Access\"]</td>\n",
       "    </tr>\n",
       "  </tbody>\n",
       "</table>\n",
       "</div>"
      ],
      "text/plain": [
       "      remote_user           hostname  status  body_bytes_sent request_method  \\\n",
       "22171           -  vm-director-nginx     200              956           POST   \n",
       "\n",
       "       request_length  bytes_sent  request_time  upstream_status  connection  \\\n",
       "22171             684        1224         0.006              200   701008974   \n",
       "\n",
       "       connection_requests      agent.ip      rule.mitre.tactic  \n",
       "22171                    1  192.168.1.99  [\"Credential Access\"]  "
      ]
     },
     "execution_count": 96,
     "metadata": {},
     "output_type": "execute_result"
    }
   ],
   "source": [
    "df[df['rule.mitre.tactic'] == '[\"Credential Access\"]']"
   ]
  },
  {
   "cell_type": "code",
   "execution_count": 97,
   "id": "65f54417-139e-4863-b3f7-79e8773ef9e3",
   "metadata": {},
   "outputs": [
    {
     "data": {
      "text/plain": [
       "array([404, 502, 200, 400, 422, 500, 407, 403, 504, 303, 302, 301, 405,\n",
       "       413])"
      ]
     },
     "execution_count": 97,
     "metadata": {},
     "output_type": "execute_result"
    }
   ],
   "source": [
    "df['status'].unique()"
   ]
  },
  {
   "cell_type": "code",
   "execution_count": 98,
   "id": "4e6e0d3d-0c72-49c4-b701-c3cad6de4b3e",
   "metadata": {},
   "outputs": [
    {
     "data": {
      "text/plain": [
       "array(['-', 'GapuraUb2020-Mobile', 'google-oauth-client'], dtype=object)"
      ]
     },
     "execution_count": 98,
     "metadata": {},
     "output_type": "execute_result"
    }
   ],
   "source": [
    "df['remote_user'].unique()"
   ]
  },
  {
   "cell_type": "code",
   "execution_count": 99,
   "id": "9f6e0d55-c78a-4f0f-8642-b7b511793047",
   "metadata": {},
   "outputs": [
    {
     "data": {
      "text/plain": [
       "array(['GET', 'POST', 'HEAD'], dtype=object)"
      ]
     },
     "execution_count": 99,
     "metadata": {},
     "output_type": "execute_result"
    }
   ],
   "source": [
    "df['request_method'].unique()"
   ]
  },
  {
   "cell_type": "code",
   "execution_count": 100,
   "id": "ad054daa-0049-4368-9bb2-011ef170d76f",
   "metadata": {},
   "outputs": [
    {
     "data": {
      "text/plain": [
       "array(['[\"non-attack\"]', '[\"Impact\"]', '[\"Defense Evasion\"]',\n",
       "       '[\"Reconnaissance\"]', '[\"Credential Access\"]',\n",
       "       '[\"Initial Access\"]'], dtype=object)"
      ]
     },
     "execution_count": 100,
     "metadata": {},
     "output_type": "execute_result"
    }
   ],
   "source": [
    "df['rule.mitre.tactic'].unique()"
   ]
  },
  {
   "cell_type": "code",
   "execution_count": 101,
   "id": "7de9a8a1-d5ff-4a74-9ce8-1e6507e29091",
   "metadata": {},
   "outputs": [],
   "source": [
    "# Drop unnecessary column\n",
    "df.drop(['hostname', 'agent.ip', ], axis=1, inplace=True)"
   ]
  },
  {
   "cell_type": "code",
   "execution_count": 102,
   "id": "3fdcd6c2-6204-41bb-9496-bbb219b1ccf2",
   "metadata": {},
   "outputs": [],
   "source": [
    "# Encode categorical column\n",
    "encode_remote_user = {\n",
    "    '-': 0,\n",
    "    'GapuraUb2020-Mobile': 1,\n",
    "    'google-oauth-client': 2\n",
    "}\n",
    "\n",
    "encode_req_method = {\n",
    "    'GET': 0,\n",
    "    'POST': 1,\n",
    "    'HEAD': 2\n",
    "}\n",
    "\n",
    "encode_label = {\n",
    "    '[\"non-attack\"]': 0,\n",
    "    '[\"Impact\"]': 1,\n",
    "    '[\"Defense Evasion\"]': 2,\n",
    "    '[\"Reconnaissance\"]': 3,\n",
    "    '[\"Credential Access\"]': 4,\n",
    "    '[\"Initial Access\"]': 5\n",
    "}\n",
    "\n",
    "df['remote_user'] = df['remote_user'].apply(lambda x: encode_remote_user[x])\n",
    "df['request_method'] = df['request_method'].apply(lambda x: encode_req_method[x])\n",
    "df['rule.mitre.tactic'] = df['rule.mitre.tactic'].apply(lambda x: encode_label[x])\n",
    "\n",
    "def preprocess(df):\n",
    "    df.drop(['hostname', 'agent.ip', ], axis=1, inplace=True)\n",
    "    df['remote_user'] = df['remote_user'].apply(lambda x: encode_remote_user[x])\n",
    "    df['request_method'] = df['request_method'].apply(lambda x: encode_req_method[x])\n",
    "    df['rule.mitre.tactic'] = df['rule.mitre.tactic'].apply(lambda x: encode_label[x])\n",
    "    return df"
   ]
  },
  {
   "cell_type": "code",
   "execution_count": 103,
   "id": "1f63a45b-84ed-460e-afd1-c2ca6b1eb864",
   "metadata": {},
   "outputs": [
    {
     "data": {
      "text/html": [
       "<div>\n",
       "<style scoped>\n",
       "    .dataframe tbody tr th:only-of-type {\n",
       "        vertical-align: middle;\n",
       "    }\n",
       "\n",
       "    .dataframe tbody tr th {\n",
       "        vertical-align: top;\n",
       "    }\n",
       "\n",
       "    .dataframe thead th {\n",
       "        text-align: right;\n",
       "    }\n",
       "</style>\n",
       "<table border=\"1\" class=\"dataframe\">\n",
       "  <thead>\n",
       "    <tr style=\"text-align: right;\">\n",
       "      <th></th>\n",
       "      <th>remote_user</th>\n",
       "      <th>status</th>\n",
       "      <th>body_bytes_sent</th>\n",
       "      <th>request_method</th>\n",
       "      <th>request_length</th>\n",
       "      <th>bytes_sent</th>\n",
       "      <th>request_time</th>\n",
       "      <th>upstream_status</th>\n",
       "      <th>connection</th>\n",
       "      <th>connection_requests</th>\n",
       "      <th>rule.mitre.tactic</th>\n",
       "    </tr>\n",
       "  </thead>\n",
       "  <tbody>\n",
       "    <tr>\n",
       "      <th>0</th>\n",
       "      <td>0</td>\n",
       "      <td>404</td>\n",
       "      <td>118</td>\n",
       "      <td>0</td>\n",
       "      <td>79</td>\n",
       "      <td>330</td>\n",
       "      <td>0.002</td>\n",
       "      <td>404</td>\n",
       "      <td>688306444</td>\n",
       "      <td>2</td>\n",
       "      <td>0</td>\n",
       "    </tr>\n",
       "    <tr>\n",
       "      <th>1</th>\n",
       "      <td>0</td>\n",
       "      <td>404</td>\n",
       "      <td>118</td>\n",
       "      <td>0</td>\n",
       "      <td>79</td>\n",
       "      <td>330</td>\n",
       "      <td>0.002</td>\n",
       "      <td>404</td>\n",
       "      <td>688306865</td>\n",
       "      <td>2</td>\n",
       "      <td>0</td>\n",
       "    </tr>\n",
       "    <tr>\n",
       "      <th>2</th>\n",
       "      <td>0</td>\n",
       "      <td>404</td>\n",
       "      <td>118</td>\n",
       "      <td>0</td>\n",
       "      <td>92</td>\n",
       "      <td>330</td>\n",
       "      <td>0.003</td>\n",
       "      <td>404</td>\n",
       "      <td>688306855</td>\n",
       "      <td>2</td>\n",
       "      <td>0</td>\n",
       "    </tr>\n",
       "    <tr>\n",
       "      <th>3</th>\n",
       "      <td>0</td>\n",
       "      <td>404</td>\n",
       "      <td>118</td>\n",
       "      <td>0</td>\n",
       "      <td>81</td>\n",
       "      <td>330</td>\n",
       "      <td>0.002</td>\n",
       "      <td>404</td>\n",
       "      <td>688306869</td>\n",
       "      <td>2</td>\n",
       "      <td>0</td>\n",
       "    </tr>\n",
       "    <tr>\n",
       "      <th>4</th>\n",
       "      <td>0</td>\n",
       "      <td>404</td>\n",
       "      <td>118</td>\n",
       "      <td>0</td>\n",
       "      <td>82</td>\n",
       "      <td>330</td>\n",
       "      <td>0.003</td>\n",
       "      <td>404</td>\n",
       "      <td>688307225</td>\n",
       "      <td>2</td>\n",
       "      <td>0</td>\n",
       "    </tr>\n",
       "  </tbody>\n",
       "</table>\n",
       "</div>"
      ],
      "text/plain": [
       "   remote_user  status  body_bytes_sent  request_method  request_length  \\\n",
       "0            0     404              118               0              79   \n",
       "1            0     404              118               0              79   \n",
       "2            0     404              118               0              92   \n",
       "3            0     404              118               0              81   \n",
       "4            0     404              118               0              82   \n",
       "\n",
       "   bytes_sent  request_time  upstream_status  connection  connection_requests  \\\n",
       "0         330         0.002              404   688306444                    2   \n",
       "1         330         0.002              404   688306865                    2   \n",
       "2         330         0.003              404   688306855                    2   \n",
       "3         330         0.002              404   688306869                    2   \n",
       "4         330         0.003              404   688307225                    2   \n",
       "\n",
       "   rule.mitre.tactic  \n",
       "0                  0  \n",
       "1                  0  \n",
       "2                  0  \n",
       "3                  0  \n",
       "4                  0  "
      ]
     },
     "execution_count": 103,
     "metadata": {},
     "output_type": "execute_result"
    }
   ],
   "source": [
    "df.head()"
   ]
  },
  {
   "cell_type": "code",
   "execution_count": 104,
   "id": "cc5abdbe-ce31-4e38-a12b-3ae30a343220",
   "metadata": {},
   "outputs": [
    {
     "name": "stdout",
     "output_type": "stream",
     "text": [
      "Unique value in col remote_user (int64) - 3\n",
      "Unique value in col status (int64) - 14\n",
      "Unique value in col body_bytes_sent (int64) - 816\n",
      "Unique value in col request_method (int64) - 3\n",
      "Unique value in col request_length (int64) - 1194\n",
      "Unique value in col bytes_sent (int64) - 973\n",
      "Unique value in col request_time (float64) - 1073\n",
      "Unique value in col upstream_status (int64) - 14\n",
      "Unique value in col connection (int64) - 46530\n",
      "Unique value in col connection_requests (int64) - 551\n",
      "Unique value in col rule.mitre.tactic (int64) - 6\n"
     ]
    }
   ],
   "source": [
    "for col in df:\n",
    "    print(f'Unique value in col {col} ({df[col].dtype}) - {df[col].nunique()}')"
   ]
  },
  {
   "cell_type": "code",
   "execution_count": 105,
   "id": "9f13027e-307a-4129-9ea4-e1cac25ab313",
   "metadata": {},
   "outputs": [],
   "source": [
    "X = df.iloc[:, :-1]\n",
    "y = df.iloc[:, -1]\n",
    "\n",
    "X_train, X_test, y_train, y_test = train_test_split(X, y, test_size=0.2, random_state=43)"
   ]
  },
  {
   "cell_type": "code",
   "execution_count": 108,
   "id": "e0e4b867-8bf4-4259-971d-fa30aed893aa",
   "metadata": {},
   "outputs": [],
   "source": [
    "def evaluate_classifier_model(X_train, X_test, y_train, y_test):\n",
    "    from sklearn.linear_model import LogisticRegression # Logistic Regression\n",
    "    from sklearn.svm import SVC # Support Vector Machine\n",
    "    from sklearn.naive_bayes import GaussianNB # Gaussian Naive Bayes\n",
    "    from sklearn.naive_bayes import MultinomialNB # Multinomial Naive Bayes\n",
    "    from sklearn.linear_model import SGDClassifier # Stochastic Gradient Descent\n",
    "    from sklearn.neighbors import KNeighborsClassifier # K Nearest Neighbor\n",
    "    from sklearn.tree import DecisionTreeClassifier # Decision Tree Classifier\n",
    "    from sklearn.ensemble import RandomForestClassifier # Random Forest\n",
    "    from xgboost.sklearn import XGBClassifier #XGBoost\n",
    "\n",
    "    models = {\n",
    "          'LogisticRegression': LogisticRegression(),\n",
    "          'DecisionTreeClassifier': DecisionTreeClassifier(),\n",
    "          'RandomForestClassifier': RandomForestClassifier(),\n",
    "          'GaussianNB': GaussianNB(),\n",
    "          'MultinomialNB': MultinomialNB(),\n",
    "          'SVC': SVC(),\n",
    "          'SGDClassifier': SGDClassifier(),\n",
    "          'KNeighborsClassifier': KNeighborsClassifier(),\n",
    "          'XGBClassifier': XGBClassifier()\n",
    "      }\n",
    "    models_score = {}\n",
    "\n",
    "    for name, model in models.items():\n",
    "        try:\n",
    "            model.fit(X_train, y_train)\n",
    "            y_pred = model.predict(X_test)\n",
    "            score = f1_score(y_test, y_pred, average='weighted')\n",
    "            print(f'Accuracy score for {name}: {score}')\n",
    "            models_score[name] = score\n",
    "        except Exception as e:\n",
    "            print(f'model {name} can\\'t be trained')\n",
    "            print(e)\n",
    "\n",
    "    return pd.Series(models_score).sort_values(ascending=False)\n",
    "\n",
    "def evaluate_regressor_model(X_train, X_test, y_train, y_test):\n",
    "    from sklearn.linear_model import LinearRegression\n",
    "    from lightgbm import LGBMRegressor\n",
    "    from xgboost.sklearn import XGBRegressor\n",
    "    from catboost import CatBoostRegressor\n",
    "    from sklearn.linear_model import SGDRegressor\n",
    "    from sklearn.kernel_ridge import KernelRidge\n",
    "    from sklearn.linear_model import ElasticNet\n",
    "    from sklearn.linear_model import BayesianRidge\n",
    "    from sklearn.ensemble import GradientBoostingRegressor\n",
    "    from sklearn.svm import SVR\n",
    "\n",
    "    models = {\n",
    "      'LinearRegression': LinearRegression(),\n",
    "      'LGBMRegressor': LGBMRegressor(),\n",
    "      'XGBRegressor': XGBRegressor(),\n",
    "      'SGDRegressor': SGDRegressor(),\n",
    "      'KernelRidge': KernelRidge(),\n",
    "      'ElasticNet': ElasticNet(),\n",
    "      'BayesianRidge': BayesianRidge(),\n",
    "      'GradientBoostingRegressor': GradientBoostingRegressor(),\n",
    "      'SVR': SVR(),\n",
    "      'CatBoostRegressor': CatBoostRegressor(),\n",
    "    }\n",
    "    models_score = {}\n",
    "\n",
    "    for name, model in models.items():\n",
    "        model.fit(X_train, y_train)\n",
    "        score = model.score(X_test, y_test)\n",
    "        print(f'R2 score for {name}: {score}')\n",
    "        models_score[name] = score\n",
    "\n",
    "    return pd.Series(models_score).sort_values()"
   ]
  },
  {
   "cell_type": "code",
   "execution_count": 109,
   "id": "17857a21-9daa-4562-80ce-fd0018adcb71",
   "metadata": {},
   "outputs": [
    {
     "name": "stdout",
     "output_type": "stream",
     "text": [
      "Accuracy score for LogisticRegression: 0.9336034274641256\n",
      "Accuracy score for DecisionTreeClassifier: 0.9799826832245148\n",
      "Accuracy score for RandomForestClassifier: 0.9839275311663316\n",
      "Accuracy score for GaussianNB: 0.03155589716666467\n",
      "Accuracy score for MultinomialNB: 0.018528081612720737\n",
      "Accuracy score for SVC: 0.9336034274641256\n",
      "Accuracy score for SGDClassifier: 0.9336034274641256\n",
      "Accuracy score for KNeighborsClassifier: 0.9405547771259187\n",
      "Accuracy score for XGBClassifier: 0.9842275343575313\n"
     ]
    },
    {
     "data": {
      "text/plain": [
       "MultinomialNB             0.018528\n",
       "GaussianNB                0.031556\n",
       "LogisticRegression        0.933603\n",
       "SVC                       0.933603\n",
       "SGDClassifier             0.933603\n",
       "KNeighborsClassifier      0.940555\n",
       "DecisionTreeClassifier    0.979983\n",
       "RandomForestClassifier    0.983928\n",
       "XGBClassifier             0.984228\n",
       "dtype: float64"
      ]
     },
     "execution_count": 109,
     "metadata": {},
     "output_type": "execute_result"
    }
   ],
   "source": [
    "evaluate_classifier_model(X_train, X_test, y_train, y_test)"
   ]
  },
  {
   "cell_type": "code",
   "execution_count": 66,
   "id": "9da8b648-2f3a-4122-87eb-17ed3e8e546a",
   "metadata": {},
   "outputs": [
    {
     "data": {
      "image/png": "[encoded data removed]",
      "text/plain": [
       "<Figure size 432x288 with 1 Axes>"
      ]
     },
     "metadata": {
      "needs_background": "light"
     },
     "output_type": "display_data"
    },
    {
     "data": {
      "text/plain": [
       "upstream_status        0.239712\n",
       "status                 0.223820\n",
       "request_method         0.159552\n",
       "connection             0.089916\n",
       "connection_requests    0.089194\n",
       "request_length         0.078842\n",
       "request_time           0.068962\n",
       "body_bytes_sent        0.026485\n",
       "bytes_sent             0.021510\n",
       "remote_user            0.002007\n",
       "dtype: float64"
      ]
     },
     "execution_count": 66,
     "metadata": {},
     "output_type": "execute_result"
    }
   ],
   "source": [
    "# define the model\n",
    "model = RandomForestClassifier()\n",
    "# fit the model\n",
    "model.fit(X_train, y_train)\n",
    "# get importance\n",
    "importance = model.feature_importances_\n",
    "feature_importance = {}\n",
    "\n",
    "# summarize feature importance\n",
    "for i,v in enumerate(importance):\n",
    "    feature_importance[df.columns[i]] = v\n",
    "    \n",
    "# plot feature importance\n",
    "plt.bar([x for x in range(len(importance))], importance)\n",
    "plt.show()\n",
    "pd.Series(feature_importance).sort_values(ascending=False)"
   ]
  },
  {
   "cell_type": "code",
   "execution_count": 75,
   "id": "a7e83502-0202-4d41-9296-f7e67c30f073",
   "metadata": {},
   "outputs": [
    {
     "data": {
      "text/plain": [
       "6"
      ]
     },
     "execution_count": 75,
     "metadata": {},
     "output_type": "execute_result"
    }
   ],
   "source": [
    "num_classes = df['rule.mitre.tactic'].nunique()\n",
    "num_classes"
   ]
  },
  {
   "cell_type": "code",
   "execution_count": 79,
   "id": "fb3fafe5-6e7c-4d55-a958-e33fba67cb02",
   "metadata": {},
   "outputs": [
    {
     "name": "stdout",
     "output_type": "stream",
     "text": [
      "Model: \"model_4\"\n",
      "_________________________________________________________________\n",
      " Layer (type)                Output Shape              Param #   \n",
      "=================================================================\n",
      " input_8 (InputLayer)        [(None, 10)]              0         \n",
      "                                                                 \n",
      " dense_22 (Dense)            (None, 32)                352       \n",
      "                                                                 \n",
      " dense_23 (Dense)            (None, 64)                2112      \n",
      "                                                                 \n",
      " dropout_5 (Dropout)         (None, 64)                0         \n",
      "                                                                 \n",
      " dense_24 (Dense)            (None, 32)                2080      \n",
      "                                                                 \n",
      " dense_25 (Dense)            (None, 1)                 33        \n",
      "                                                                 \n",
      "=================================================================\n",
      "Total params: 4,577\n",
      "Trainable params: 4,577\n",
      "Non-trainable params: 0\n",
      "_________________________________________________________________\n"
     ]
    }
   ],
   "source": [
    "# Input layer\n",
    "inputs = tf.keras.layers.Input(shape=(10, ))\n",
    "\n",
    "# Hidden layer\n",
    "dense_1 = tf.keras.layers.Dense(units=32, activation='relu')(inputs)\n",
    "dense_2 = tf.keras.layers.Dense(units=64, activation='relu')(dense_1)\n",
    "dropout_1 = tf.keras.layers.Dropout(0.1)(dense_2)\n",
    "dense_3 = tf.keras.layers.Dense(units=32, activation='relu')(dropout_1)\n",
    "\n",
    "# Output layer\n",
    "outputs = tf.keras.layers.Dense(units=1, activation='softmax')(dense_3)\n",
    "\n",
    "model = tf.keras.models.Model(inputs=inputs, outputs=outputs)\n",
    "\n",
    "model.compile(\n",
    "    loss=('categorical_crossentropy'),\n",
    "    optimizer=tf.keras.optimizers.Adam(learning_rate=0.001),\n",
    "    metrics=['accuracy']\n",
    ")\n",
    "\n",
    "model.summary()"
   ]
  },
  {
   "cell_type": "code",
   "execution_count": 83,
   "id": "4339cd33-9fda-4fee-8334-539e2427556d",
   "metadata": {},
   "outputs": [
    {
     "data": {
      "text/plain": [
       "array([0, 1, 2, 3, 4, 5])"
      ]
     },
     "execution_count": 83,
     "metadata": {},
     "output_type": "execute_result"
    }
   ],
   "source": [
    "df['rule.mitre.tactic'].unique()"
   ]
  },
  {
   "cell_type": "code",
   "execution_count": null,
   "id": "3b882429-f850-4b57-8541-f810a63cfc3c",
   "metadata": {},
   "outputs": [],
   "source": [
    "# For label array(['[\"non-attack\"]', '[\"Impact\"]', '[\"Defense Evasion\"]',\n",
    "#      '[\"Reconnaissance\"]', '[\"Credential Access\"]',\n",
    "#      '[\"Initial Access\"]'], dtype=object)\n",
    "\n",
    "# Read data\n",
    "df = pd.read_csv('../self/df_pre.csv')\n",
    "class_num = df['rule.mitre.tactic'].nunique()\n",
    "\n",
    "# Drop unnecessary column\n",
    "df.drop(['hostname', 'agent.ip'], axis=1, inplace=True)\n",
    "\n",
    "# Encode categorical column\n",
    "encode_remote_user = {\n",
    "    '-': 0,\n",
    "    'GapuraUb2020-Mobile': 1,\n",
    "    'google-oauth-client': 2\n",
    "}\n",
    "\n",
    "encode_req_method = {\n",
    "    'GET': 0,\n",
    "    'POST': 1,\n",
    "    'HEAD': 2\n",
    "}\n",
    "\n",
    "encode_label = {\n",
    "    '[\"non-attack\"]': 0,\n",
    "    '[\"Impact\"]': 1,\n",
    "    '[\"Defense Evasion\"]': 2,\n",
    "    '[\"Reconnaissance\"]': 3,\n",
    "    '[\"Credential Access\"]': 4,\n",
    "    '[\"Initial Access\"]': 5\n",
    "}\n",
    "\n",
    "df['remote_user'] = df['remote_user'].apply(lambda x: encode_remote_user[x])\n",
    "df['request_method'] = df['request_method'].apply(lambda x: encode_req_method[x])\n",
    "\n",
    "def encode_non_attack(label, to):\n",
    "    if to == 'non-attack':\n",
    "        if label == '[\"non-attack\"]':\n",
    "            return 1\n",
    "        else:\n",
    "            return 0\n",
    "        \n",
    "    if to == 'impact':\n",
    "        if label == '[\"Impact\"]':\n",
    "            return 1\n",
    "        else:\n",
    "            return 0\n",
    "        \n",
    "    if to == 'defense':\n",
    "        if label == '[\"Defense Evasion\"]':\n",
    "            return 1\n",
    "        else:\n",
    "            return 0\n",
    "        \n",
    "    if to == 'recon':\n",
    "        if label == '[\"Reconnaissance\"]':\n",
    "            return 1\n",
    "        else:\n",
    "            return 0\n",
    "    \n",
    "    \n",
    "\n",
    "    return 0\n",
    "\n",
    "def do_train():\n",
    "    for label in df['rule.mitre.tactic'].unique():\n",
    "        # check binary model for each label\n",
    "        df['rule.mitre.tactic'] = df['rule.mitre.tactic'].apply(lambda x: encode_label[x])\n",
    "        \n",
    "        \n",
    "\n",
    "    # Split train\n",
    "    X = df.iloc[:, :-1]\n",
    "    y = df.iloc[:, -1]\n",
    "\n",
    "    X_train, X_test, y_train, y_test = train_test_split(X, y, test_size=0.2, random_state=123)\n",
    "    \n",
    "    \n",
    "    \n",
    "    return"
   ]
  }
 ],
 "metadata": {
  "kernelspec": {
   "display_name": "annteam",
   "language": "python",
   "name": "annteam"
  },
  "language_info": {
   "codemirror_mode": {
    "name": "ipython",
    "version": 3
   },
   "file_extension": ".py",
   "mimetype": "text/x-python",
   "name": "python",
   "nbconvert_exporter": "python",
   "pygments_lexer": "ipython3",
   "version": "3.10.4"
  }
 },
 "nbformat": 4,
 "nbformat_minor": 5
}
