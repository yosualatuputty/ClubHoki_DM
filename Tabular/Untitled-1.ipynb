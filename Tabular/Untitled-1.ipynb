{
 "cells": [
  {
   "cell_type": "markdown",
   "metadata": {},
   "source": [
    "# Data Visualization in Data Science\n",
    "\n",
    "## Introduction\n",
    "Data visualization is a key aspect of data analysis, allowing data scientists to communicate insights effectively. This notebook covers:\n",
    "- Importance of data visualization\n",
    "- Common tools and libraries\n",
    "- Types of graphs and their uses\n",
    "- Visualizing the data analysis process\n"
   ]
  },
  {
   "cell_type": "markdown",
   "metadata": {},
   "source": [
    "## Importance of Data Visualization\n",
    "Visualizing data helps in:\n",
    "- Identifying trends and patterns\n",
    "- Making data-driven decisions\n",
    "- Communicating findings to stakeholders\n",
    "- Simplifying complex data sets\n"
   ]
  },
  {
   "cell_type": "markdown",
   "metadata": {},
   "source": [
    "## Common Tools and Libraries\n",
    "- **Matplotlib**: Basic plotting library\n",
    "- **Seaborn**: Statistical data visualization based on Matplotlib\n",
    "- **Plotly**: Interactive graphing library\n",
    "- **Pandas**: Data manipulation and analysis library with built-in plotting capabilities\n",
    "- **Altair**: Declarative statistical visualization library\n"
   ]
  },
  {
   "cell_type": "markdown",
   "metadata": {},
   "source": [
    "## Types of Graphs and Their Uses\n",
    "| Graph Type         | Use Case                                          |\n",
    "|---------------------|--------------------------------------------------|\n",
    "| Line Plot           | Show trends over time                            |\n",
    "| Bar Chart           | Compare quantities among categories              |\n",
    "| Histogram           | Show distribution of a continuous variable      |\n",
    "| Scatter Plot        | Show relationship between two continuous variables|\n",
    "| Box Plot            | Summarize data distributions and identify outliers|\n",
    "| Heatmap            | Show data intensity across two dimensions       |\n"
   ]
  },
  {
   "cell_type": "code",
   "execution_count": null,
   "metadata": {},
   "outputs": [],
   "source": [
    "# Import libraries\n",
    "import pandas as pd\n",
    "import matplotlib.pyplot as plt\n",
    "import seaborn as sns\n",
    "import numpy as np\n",
    "\n",
    "# Set style\n",
    "sns.set(style='whitegrid')\n"
   ]
  },
  {
   "cell_type": "markdown",
   "metadata": {},
   "source": [
    "## Example Visualizations\n",
    "\n",
    "### Line Plot\n",
    "A line plot to show trends over time.\n"
   ]
  },
  {
   "cell_type": "code",
   "execution_count": null,
   "metadata": {},
   "outputs": [],
   "source": [
    "# Create sample data\n",
    "time = pd.date_range(start='1/1/2020', periods=10)\n",
    "values = np.random.randn(10).cumsum()\n",
    "data = pd.DataFrame({'Time': time, 'Values': values})\n",
    "\n",
    "# Line plot\n",
    "plt.figure(figsize=(10, 5))\n",
    "plt.plot(data['Time'], data['Values'], marker='o')\n",
    "plt.title('Line Plot Example')\n",
    "plt.xlabel('Time')\n",
    "plt.ylabel('Values')\n",
    "plt.grid()\n",
    "plt.show()\n"
   ]
  },
  {
   "cell_type": "markdown",
   "metadata": {},
   "source": [
    "### Bar Chart\n",
    "A bar chart to compare quantities among categories.\n"
   ]
  },
  {
   "cell_type": "code",
   "execution_count": null,
   "metadata": {},
   "outputs": [],
   "source": [
    "# Create sample data\n",
    "categories = ['A', 'B', 'C', 'D']\n",
    "values = [4, 7, 1, 8]\n",
    "data = pd.DataFrame({'Category': categories, 'Values': values})\n",
    "\n",
    "# Bar chart\n",
    "plt.figure(figsize=(8, 5))\n",
    "sns.barplot(x='Category', y='Values', data=data)\n",
    "plt.title('Bar Chart Example')\n",
    "plt.xlabel('Category')\n",
    "plt.ylabel('Values')\n",
    "plt.show()\n"
   ]
  },
  {
   "cell_type": "markdown",
   "metadata": {},
   "source": [
    "### Histogram\n",
    "A histogram to show the distribution of a continuous variable.\n"
   ]
  },
  {
   "cell_type": "code",
   "execution_count": null,
   "metadata": {},
   "outputs": [],
   "source": [
    "# Create sample data\n",
    "data = np.random.randn(1000)\n",
    "\n",
    "# Histogram\n",
    "plt.figure(figsize=(10, 5))\n",
    "plt.hist(data, bins=30, edgecolor='black')\n",
    "plt.title('Histogram Example')\n",
    "plt.xlabel('Value')\n",
    "plt.ylabel('Frequency')\n",
    "plt.grid()\n",
    "plt.show()\n"
   ]
  },
  {
   "cell_type": "markdown",
   "metadata": {},
   "source": [
    "## Visualizing the Data Analysis Process\n",
    "Visualizations can also help to illustrate the steps in a data analysis process:\n",
    "- Data Collection\n",
    "- Data Cleaning\n",
    "- Exploratory Data Analysis (EDA)\n",
    "- Modeling\n",
    "- Evaluation\n",
    "\n",
    "### Example: EDA Process Visualization\n"
   ]
  },
  {
   "cell_type": "code",
   "execution_count": null,
   "metadata": {},
   "outputs": [],
   "source": [
    "# Example EDA process\n",
    "steps = ['Data Collection', 'Data Cleaning', 'EDA', 'Modeling', 'Evaluation']\n",
    "values = [1, 2, 3, 4, 5]\n",
    "\n",
    "# Bar chart for EDA steps\n",
    "plt.figure(figsize=(10, 5))\n",
    "sns.barplot(x=steps, y=values)\n",
    "plt.title('Data Analysis Process Steps')\n",
    "plt.xlabel('Steps')\n",
    "plt.ylabel('Order')\n",
    "plt.xticks(rotation=45)\n",
    "plt.show()\n"
   ]
  },
  {
   "cell_type": "markdown",
   "metadata": {},
   "source": [
    "## Conclusion\n",
    "Data visualization is an essential skill in data science. Understanding the types of graphs and how to use visualization tools effectively can greatly enhance your ability to communicate data insights. This notebook provided a foundation for implementing various visualization techniques."
   ]
  }
 ],
 "metadata": {
  "kernelspec": {
   "display_name": "Python 3 (ipykernel)",
   "language": "python",
   "name": "python3"
  },
  "language_info": {
   "codemirror_mode": {
    "name": "ipython",
    "version": 3
   },
   "file_extension": ".py",
   "mimetype": "text/x-python",
   "name": "python",
   "nbconvert_exporter": "python",
   "pygments_lexer": "ipython3",
   "version": "3.12.4"
  }
 },
 "nbformat": 4,
 "nbformat_minor": 4
}
