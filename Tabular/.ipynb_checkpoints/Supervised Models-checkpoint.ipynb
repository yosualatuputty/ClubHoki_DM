{
 "cells": [
  {
   "cell_type": "markdown",
   "id": "a735f1e3-1d9e-4115-a05b-c2f6baf87ff9",
   "metadata": {},
   "source": [
    "# Regresi"
   ]
  },
  {
   "cell_type": "markdown",
   "id": "e98b9914-4a06-40b1-bf3c-a54b4c9c4fd0",
   "metadata": {},
   "source": [
    "### a. Linear Regression"
   ]
  },
  {
   "cell_type": "code",
   "execution_count": null,
   "id": "276d0eca-14e7-4aea-bb30-0a4c9f32647e",
   "metadata": {},
   "outputs": [],
   "source": [
    "from sklearn.linear_model import LogisticRegression\n",
    "\n",
    "# Initialize the Logistic Regression model\n",
    "log_reg = LogisticRegression()\n",
    "\n",
    "# Train the model\n",
    "log_reg.fit(X_train, y_train)"
   ]
  },
  {
   "cell_type": "markdown",
   "id": "68aca69f-9064-484b-b3f5-1a81e6feec36",
   "metadata": {},
   "source": [
    "# Klasifikasi"
   ]
  },
  {
   "cell_type": "markdown",
   "id": "d88a3fa5-ba74-45a6-81d1-d552bd9abc2f",
   "metadata": {},
   "source": [
    "### a. Logistic  Regression"
   ]
  },
  {
   "cell_type": "code",
   "execution_count": null,
   "id": "f4657c85-7489-4e24-a73e-7940d203bf27",
   "metadata": {},
   "outputs": [],
   "source": [
    "from sklearn.linear_model import LogisticRegression\n",
    "\n",
    "# Initialize Logistic Regression model\n",
    "log_reg = LogisticRegression\n",
    "\n",
    "# Train the model\n",
    "log_reg.fit(X_train, y_train)"
   ]
  },
  {
   "cell_type": "markdown",
   "id": "a7fba118-e34c-4068-9b8e-2069894dd28b",
   "metadata": {},
   "source": [
    "### b. K-Nearest Neighbor (KNN)"
   ]
  },
  {
   "cell_type": "code",
   "execution_count": 20,
   "id": "d9a3399f-c1a9-42fc-bfc0-5e76e1d7599c",
   "metadata": {},
   "outputs": [],
   "source": [
    "from sklearn.neighbors import KNeighborsClassifier\n",
    "\n",
    "# Initialize the KNN model (e.g., with 5 nearest neighbors)\n",
    "knn = KNeighborsClassifier(n_neighbors=5)\n",
    "\n",
    "# Train the model\n",
    "knn.fit(X_train, y_train)"
   ]
  },
  {
   "cell_type": "markdown",
   "id": "cf616e38-f4f1-4716-91f6-fc702a4fc08a",
   "metadata": {},
   "source": [
    "### c. SVC"
   ]
  },
  {
   "cell_type": "code",
   "execution_count": 19,
   "id": "aabc1aef-7b72-44d0-b58f-f5f216b2c78a",
   "metadata": {},
   "outputs": [],
   "source": [
    "from sklearn.svm import SVC\n",
    "\n",
    "# Initialize the SVC model (using 'rbf' kernel by default)\n",
    "svc = SVC(kernel='rbf')\n",
    "\n",
    "# Train the SVM model\n",
    "svc.fit(X_train, y_train)"
   ]
  },
  {
   "cell_type": "markdown",
   "id": "64b6f407-aea3-41a5-987d-b8d14db5fb03",
   "metadata": {},
   "source": [
    "### d. Gaussian Naive Bayes"
   ]
  },
  {
   "cell_type": "code",
   "execution_count": 18,
   "id": "da368b9f-729f-4f98-9ea2-1fec979c92c7",
   "metadata": {},
   "outputs": [],
   "source": [
    "from sklearn.naive_bayes import BernoulliNB\n",
    "\n",
    "# Initialize the BernoulliNB model\n",
    "nb = BernoulliNB()\n",
    "\n",
    "# Train the model\n",
    "nb.fit(X_train, y_train)"
   ]
  },
  {
   "cell_type": "markdown",
   "id": "e2517310-dead-41db-8c8a-752a786bf349",
   "metadata": {},
   "source": [
    "# Hybrid (Klasifikasi & Regresi)"
   ]
  },
  {
   "cell_type": "markdown",
   "id": "6de64402-a8bf-4870-bd02-91f95a79152d",
   "metadata": {},
   "source": [
    "### a. Random Forest"
   ]
  },
  {
   "cell_type": "code",
   "execution_count": 17,
   "id": "1c2909b2-65bc-4b6e-aa84-08e78d81ac2d",
   "metadata": {},
   "outputs": [],
   "source": [
    "from sklearn.ensemble import RandomForestClassifier\n",
    "\n",
    "# Initialize the RandomForestClassifier model\n",
    "rf = RandomForestClassifier(n_estimators=100, random_state=42)\n",
    "\n",
    "# Train the Random Forest model\n",
    "rf.fit(X_train, y_train)"
   ]
  },
  {
   "cell_type": "markdown",
   "id": "3b1ce1a8-c1a8-4db8-89a6-1b18ed04a33b",
   "metadata": {},
   "source": [
    "### b. Decision Tree"
   ]
  },
  {
   "cell_type": "code",
   "execution_count": 16,
   "id": "49ccb45c-12fa-4843-ae61-02613551c6b7",
   "metadata": {},
   "outputs": [],
   "source": [
    "from sklearn.tree import DecisionTreeClassifier\n",
    "\n",
    "# Initialize the DecisionTreeClassifier model\n",
    "dt = DecisionTreeClassifier(criterion='gini', random_state=42)\n",
    "\n",
    "# Train the model\n",
    "dt.fit(X_train, y_train)"
   ]
  },
  {
   "cell_type": "markdown",
   "id": "71d11ec5-603f-4fab-811c-3f440c56a6ef",
   "metadata": {},
   "source": [
    "### c. XGBoost"
   ]
  },
  {
   "cell_type": "code",
   "execution_count": null,
   "id": "43f127ed-59ce-4144-9aec-3dada36afc2f",
   "metadata": {},
   "outputs": [],
   "source": [
    "!pip install xgboost\n",
    "from xgboost import XGBClassifier\n",
    "\n",
    "# Initialize the XGBClassifier model\n",
    "xgb = XGBClassifier(n_estimators=100, learning_rate=0.1, max_depth=3, random_state=42)\n",
    "\n",
    "# Train the model\n",
    "xgb.fit(X_train, y_train)"
   ]
  },
  {
   "cell_type": "markdown",
   "id": "051b65c2-9310-485b-8ecc-945cb553aa6a",
   "metadata": {},
   "source": [
    "### d. CatBoost"
   ]
  },
  {
   "cell_type": "code",
   "execution_count": null,
   "id": "56558bfb-6369-446b-a828-0e27dbc05cd3",
   "metadata": {},
   "outputs": [],
   "source": [
    "!pip install catboost\n",
    "from catboost import CatBoostClassifier\n",
    "\n",
    "# Initialize the CatBoostClassifier model\n",
    "catboost = CatBoostClassifier(iterations=100, learning_rate=0.1, depth=3, random_state=42, verbose=0)\n",
    "\n",
    "# Train the model\n",
    "catboost.fit(X_train, y_train)"
   ]
  },
  {
   "cell_type": "markdown",
   "id": "bdc1d2d8-7b41-4cd9-90dc-2c988fbaa290",
   "metadata": {},
   "source": [
    "### e. GradientBoost"
   ]
  },
  {
   "cell_type": "code",
   "execution_count": 21,
   "id": "cb5c4c2b-4ea0-4e6a-83d7-30200750702d",
   "metadata": {},
   "outputs": [],
   "source": [
    "from sklearn.ensemble import GradientBoostingClassifier\n",
    "\n",
    "# Initialize the GradientBoostingClassifier model\n",
    "gbm = GradientBoostingClassifier(n_estimators=100, learning_rate=0.1, max_depth=3, random_state=42)\n",
    "\n",
    "# Train the model\n",
    "gbm.fit(X_train, y_train)"
   ]
  },
  {
   "cell_type": "markdown",
   "id": "a2c36dbb-f3b8-471c-898f-f5bcbfdf2d4c",
   "metadata": {},
   "source": [
    "### f. LightGBM (masih gayakin)"
   ]
  },
  {
   "cell_type": "code",
   "execution_count": null,
   "id": "5431de2c-fd29-467d-819d-7eb224bdeda9",
   "metadata": {},
   "outputs": [],
   "source": [
    "!pip install lightgbm\n",
    "import lightgbm as lgb "
   ]
  }
 ],
 "metadata": {
  "kernelspec": {
   "display_name": "Python 3 (ipykernel)",
   "language": "python",
   "name": "python3"
  },
  "language_info": {
   "codemirror_mode": {
    "name": "ipython",
    "version": 3
   },
   "file_extension": ".py",
   "mimetype": "text/x-python",
   "name": "python",
   "nbconvert_exporter": "python",
   "pygments_lexer": "ipython3",
   "version": "3.12.4"
  }
 },
 "nbformat": 4,
 "nbformat_minor": 5
}
