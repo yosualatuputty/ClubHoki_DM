{
 "cells": [
  {
   "cell_type": "markdown",
   "metadata": {},
   "source": [
    "# Seaborn Use Cases in Data Visualization\n",
    "\n",
    "## Introduction\n",
    "Seaborn is a powerful Python data visualization library based on Matplotlib. It provides a high-level interface for drawing attractive and informative statistical graphics. In this notebook, we will explore various use cases of Seaborn with different datasets and visualization techniques.\n"
   ]
  },
  {
   "cell_type": "markdown",
   "metadata": {},
   "source": [
    "## Setup\n",
    "Let's import the necessary libraries and set up our environment.\n"
   ]
  },
  {
   "cell_type": "code",
   "execution_count": null,
   "metadata": {},
   "outputs": [],
   "source": [
    "# Import libraries\n",
    "import pandas as pd\n",
    "import seaborn as sns\n",
    "import matplotlib.pyplot as plt\n",
    "import numpy as np\n",
    "\n",
    "# Set style\n",
    "sns.set(style='whitegrid')\n"
   ]
  },
  {
   "cell_type": "markdown",
   "metadata": {},
   "source": [
    "## Use Case 1: Scatter Plot\n",
    "Scatter plots are useful for visualizing the relationship between two continuous variables. Let's use the `tips` dataset from Seaborn.\n"
   ]
  },
  {
   "cell_type": "code",
   "execution_count": null,
   "metadata": {},
   "outputs": [],
   "source": [
    "# Load tips dataset\n",
    "tips = sns.load_dataset('tips')\n",
    "\n",
    "# Scatter plot\n",
    "plt.figure(figsize=(10, 6))\n",
    "sns.scatterplot(data=tips, x='total_bill', y='tip', hue='time', style='sex')\n",
    "plt.title('Scatter Plot of Tips vs Total Bill')\n",
    "plt.xlabel('Total Bill')\n",
    "plt.ylabel('Tip')\n",
    "plt.legend(title='Time')\n",
    "plt.show()\n"
   ]
  },
  {
   "cell_type": "markdown",
   "metadata": {},
   "source": [
    "## Use Case 2: Box Plot\n",
    "Box plots are useful for showing the distribution of data and identifying outliers. We will use the `diamonds` dataset.\n"
   ]
  },
  {
   "cell_type": "code",
   "execution_count": null,
   "metadata": {},
   "outputs": [],
   "source": [
    "# Load diamonds dataset\n",
    "diamonds = sns.load_dataset('diamonds')\n",
    "\n",
    "# Box plot\n",
    "plt.figure(figsize=(12, 6))\n",
    "sns.boxplot(data=diamonds, x='cut', y='price', hue='color')\n",
    "plt.title('Box Plot of Diamond Prices by Cut and Color')\n",
    "plt.xlabel('Cut')\n",
    "plt.ylabel('Price')\n",
    "plt.legend(title='Color')\n",
    "plt.show()\n"
   ]
  },
  {
   "cell_type": "markdown",
   "metadata": {},
   "source": [
    "## Use Case 3: Heatmap\n",
    "Heatmaps are great for visualizing matrix-like data. We will create a heatmap to show the correlation between numerical features in the `iris` dataset.\n"
   ]
  },
  {
   "cell_type": "code",
   "execution_count": null,
   "metadata": {},
   "outputs": [],
   "source": [
    "# Load iris dataset\n",
    "iris = sns.load_dataset('iris')\n",
    "\n",
    "# Calculate the correlation matrix\n",
    "corr = iris.corr()\n",
    "\n",
    "# Heatmap\n",
    "plt.figure(figsize=(8, 6))\n",
    "sns.heatmap(corr, annot=True, fmt='.2f', cmap='coolwarm', square=True)\n",
    "plt.title('Heatmap of Iris Dataset Correlations')\n",
    "plt.show()\n"
   ]
  },
  {
   "cell_type": "markdown",
   "metadata": {},
   "source": [
    "## Use Case 4: Pair Plot\n",
    "Pair plots are useful for visualizing relationships between multiple variables in a dataset. We will use the `penguins` dataset.\n"
   ]
  },
  {
   "cell_type": "code",
   "execution_count": null,
   "metadata": {},
   "outputs": [],
   "source": [
    "# Load penguins dataset\n",
    "penguins = sns.load_dataset('penguins')\n",
    "\n",
    "# Pair plot\n",
    "sns.pairplot(penguins, hue='species')\n",
    "plt.title('Pair Plot of Penguin Species')\n",
    "plt.show()\n"
   ]
  },
  {
   "cell_type": "markdown",
   "metadata": {},
   "source": [
    "## Use Case 5: Violin Plot\n",
    "Violin plots combine box plots and density plots to show the distribution of the data. We will visualize the `tips` dataset again.\n"
   ]
  },
  {
   "cell_type": "code",
   "execution_count": null,
   "metadata": {},
   "outputs": [],
   "source": [
    "# Violin plot\n",
    "plt.figure(figsize=(10, 6))\n",
    "sns.violinplot(data=tips, x='day', y='total_bill', hue='sex', split=True)\n",
    "plt.title('Violin Plot of Total Bills by Day and Sex')\n",
    "plt.xlabel('Day')\n",
    "plt.ylabel('Total Bill')\n",
    "plt.show()\n"
   ]
  },
  {
   "cell_type": "markdown",
   "metadata": {},
   "source": [
    "## Conclusion\n",
    "Seaborn provides a range of visualization techniques that are essential for data analysis. This notebook demonstrated various use cases including scatter plots, box plots, heatmaps, pair plots, and violin plots. Each of these visualizations can be utilized to explore different aspects of your data effectively."
   ]
  }
 ],
 "metadata": {
  "kernelspec": {
   "display_name": "Python 3",
   "language": "python",
   "name": "python3"
  },
  "language_info": {
   "codemirror_mode": {
    "name": "ipython",
    "version": 3
   },
   "file_extension": ".py",
   "mimetype": "text/x-python",
   "name": "python",
   "nbconvert_exporter": "python",
   "pygments_lexer": "ipython3",
   "version": "3.8.5"
  }
 },
 "nbformat": 4,
 "nbformat_minor": 4
}
