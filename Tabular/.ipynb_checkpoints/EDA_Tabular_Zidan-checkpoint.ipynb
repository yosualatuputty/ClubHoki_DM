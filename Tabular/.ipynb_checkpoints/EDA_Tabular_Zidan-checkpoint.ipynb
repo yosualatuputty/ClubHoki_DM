{
 "cells": [
  {
   "cell_type": "markdown",
   "id": "ed913a46-2ed3-40a2-9b98-a3f9f9d0c22b",
   "metadata": {},
   "source": [
    "# Melihat 5 Data Teratas"
   ]
  },
  {
   "cell_type": "code",
   "execution_count": null,
   "id": "aaa00ba9-c11d-4a1e-a2c2-90e000f87973",
   "metadata": {},
   "outputs": [],
   "source": [
    "df.head()\n"
   ]
  },
  {
   "cell_type": "markdown",
   "id": "b880e682-c7bc-41c3-aeb2-d605a17585da",
   "metadata": {},
   "source": [
    "# Informasi Umum Dataset"
   ]
  },
  {
   "cell_type": "code",
   "execution_count": null,
   "id": "289e91f0-8b1d-40b3-a47d-36530d07ada3",
   "metadata": {},
   "outputs": [],
   "source": [
    "df.info()\n"
   ]
  },
  {
   "cell_type": "markdown",
   "id": "93210f51-3ebf-4f92-8e2f-8374adfb7059",
   "metadata": {},
   "source": [
    "# Deskripsi Statistik dari Kolom Numerik"
   ]
  },
  {
   "cell_type": "code",
   "execution_count": null,
   "id": "26a1cc3e-48ae-409a-9219-99d36aca97f5",
   "metadata": {},
   "outputs": [],
   "source": [
    "df.describe()\n"
   ]
  },
  {
   "cell_type": "markdown",
   "id": "239d5241-eb90-42b1-b3db-e8a2f59854e2",
   "metadata": {},
   "source": [
    "# Memeriksa Missing Values"
   ]
  },
  {
   "cell_type": "code",
   "execution_count": null,
   "id": "7c3c4fda-3900-4450-8799-e1c0c4363807",
   "metadata": {},
   "outputs": [],
   "source": [
    "df.isnull().sum()\n"
   ]
  },
  {
   "cell_type": "markdown",
   "id": "e7b88931",
   "metadata": {},
   "source": [
    "## Cek Tipe Kolom"
   ]
  },
  {
   "cell_type": "code",
   "execution_count": null,
   "id": "4a0f69f2",
   "metadata": {},
   "outputs": [],
   "source": [
    "print(df.dtypes)"
   ]
  },
  {
   "cell_type": "markdown",
   "id": "181652c0",
   "metadata": {},
   "source": [
    "## Cek Nilai yg Sama"
   ]
  },
  {
   "cell_type": "code",
   "execution_count": null,
   "id": "3b4c0f95",
   "metadata": {},
   "outputs": [],
   "source": [
    "duplicates = df['originh'].duplicated(keep=False)  # Tandai semua duplikat\n",
    "\n",
    "# Hitung jumlah IP unik yang memiliki duplikat\n",
    "duplicate_ips = df.loc[duplicates, 'originh'].unique()\n",
    "num_duplicate_ips = len(duplicate_ips)"
   ]
  },
  {
   "cell_type": "markdown",
   "id": "f767b4ed",
   "metadata": {},
   "source": [
    "## Cari Kolom Tipe Data Kategori"
   ]
  },
  {
   "cell_type": "code",
   "execution_count": null,
   "id": "2f854eee",
   "metadata": {},
   "outputs": [],
   "source": [
    "categorical_columns = df.select_dtypes(include=['object', 'category']).columns\n",
    "num_categorical_columns = len(categorical_columns)"
   ]
  },
  {
   "cell_type": "markdown",
   "id": "73993f28-0fe7-4787-a51c-107b686b4252",
   "metadata": {},
   "source": [
    "# Distribusi Data Kategorikal"
   ]
  },
  {
   "cell_type": "code",
   "execution_count": null,
   "id": "76f406b4-11fb-42ff-bdc1-208655cb3c9e",
   "metadata": {},
   "outputs": [],
   "source": [
    "df['nama_kolom'].value_counts()\n"
   ]
  },
  {
   "cell_type": "markdown",
   "id": "6b421d5e-3a31-4bbe-b0a0-72c221ec9e83",
   "metadata": {},
   "source": [
    "# Visualisasi Korelasi antar Kolom Numerik"
   ]
  },
  {
   "cell_type": "code",
   "execution_count": null,
   "id": "4e6cbbc9-357b-40d8-8217-574d0d072bc5",
   "metadata": {},
   "outputs": [],
   "source": [
    "plt.figure(figsize=(10,8))\n",
    "sns.heatmap(df.corr(), annot=True, cmap='coolwarm')\n",
    "plt.show()\n"
   ]
  },
  {
   "cell_type": "markdown",
   "id": "f2861e60-0f22-4b75-9285-819baa96bc68",
   "metadata": {},
   "source": [
    "# Distribusi Kolom Numerik"
   ]
  },
  {
   "cell_type": "code",
   "execution_count": null,
   "id": "e708af76-f59e-4d25-bcec-c72afd4c5dd5",
   "metadata": {},
   "outputs": [],
   "source": [
    "sns.histplot(df['nama_kolom'], bins=30, kde=True)\n",
    "plt.show()\n"
   ]
  },
  {
   "cell_type": "markdown",
   "id": "6958df34-a208-4e67-904c-15ae00fc713f",
   "metadata": {},
   "source": [
    "# Boxplot untuk Mendeteksi Outliers"
   ]
  },
  {
   "cell_type": "code",
   "execution_count": null,
   "id": "6798f8df-faea-4992-8b3a-48826502fa09",
   "metadata": {},
   "outputs": [],
   "source": [
    "sns.boxplot(x=df['nama_kolom'])\n",
    "plt.show()\n"
   ]
  },
  {
   "cell_type": "markdown",
   "id": "662b113a-0821-40e6-ba64-1f3f5780b637",
   "metadata": {},
   "source": [
    "# Pairplot untuk Relasi Antar Variabel"
   ]
  },
  {
   "cell_type": "code",
   "execution_count": null,
   "id": "7707011e-a7e9-47b1-8932-e0da5352d086",
   "metadata": {},
   "outputs": [],
   "source": [
    "sns.pairplot(df)\n",
    "plt.show()\n"
   ]
  },
  {
   "cell_type": "markdown",
   "id": "f65cbbc5-fda3-4c40-8673-162402dd5990",
   "metadata": {},
   "source": [
    "# Pivot Table / Crosstab untuk Data Kategorikal"
   ]
  },
  {
   "cell_type": "code",
   "execution_count": null,
   "id": "459ae478-be2d-4fba-9b6d-8fb7996cff96",
   "metadata": {},
   "outputs": [],
   "source": [
    "pd.crosstab(df['kolom1'], df['kolom2'])\n"
   ]
  },
  {
   "cell_type": "markdown",
   "id": "ad2ac72b-0618-488e-a42c-fec55bd65da6",
   "metadata": {},
   "source": [
    "# Group By untuk Meringkas Data"
   ]
  },
  {
   "cell_type": "code",
   "execution_count": null,
   "id": "ac7f8ded-a363-4b3d-968c-92fe9adbcd9a",
   "metadata": {},
   "outputs": [],
   "source": [
    "df.groupby('nama_kolom').mean()\n"
   ]
  },
  {
   "cell_type": "markdown",
   "id": "29a3fbb5-9959-4c57-971c-6e725315ddd9",
   "metadata": {},
   "source": [
    "# Mendeteksi Skewness"
   ]
  },
  {
   "cell_type": "code",
   "execution_count": null,
   "id": "32bc8a1d-6ede-41dd-9231-124832d1f05a",
   "metadata": {},
   "outputs": [],
   "source": [
    "df['nama_kolom'].skew()\n"
   ]
  },
  {
   "cell_type": "markdown",
   "id": "65dba64a-e17f-4224-8067-9c37be5606d3",
   "metadata": {},
   "source": [
    "# Melihat Kolom dengan Korelasi Tertinggi"
   ]
  },
  {
   "cell_type": "code",
   "execution_count": null,
   "id": "e9a62c47-4fba-4579-9d9a-f012481c93cb",
   "metadata": {},
   "outputs": [],
   "source": [
    "df.corr()['target'].sort_values(ascending=False)\n"
   ]
  },
  {
   "cell_type": "markdown",
   "id": "d62d4fde-9244-49d3-a4e6-d33cce790bc7",
   "metadata": {},
   "source": [
    "# Visualisasi Variabel Kategorikal dengan Countplot"
   ]
  },
  {
   "cell_type": "code",
   "execution_count": null,
   "id": "bb5557a5-faaf-4e79-90cf-ebca18603ed9",
   "metadata": {},
   "outputs": [],
   "source": [
    "sns.countplot(x='nama_kolom', data=df)\n",
    "plt.show()\n"
   ]
  },
  {
   "cell_type": "markdown",
   "id": "c13f7db9-b150-4859-8f7d-c6987a601c60",
   "metadata": {},
   "source": [
    "# Histogram untuk Melihat Distribusi Data"
   ]
  },
  {
   "cell_type": "code",
   "execution_count": null,
   "id": "ef2aa146-104f-4ffc-929c-57e15330bf53",
   "metadata": {},
   "outputs": [],
   "source": [
    "df.hist(bins=30, figsize=(15, 10), grid=False)\n",
    "plt.show()\n"
   ]
  },
  {
   "cell_type": "markdown",
   "id": "e69338d5-89de-4490-8e5d-99acee062888",
   "metadata": {},
   "source": [
    "# Bar Plot untuk Variabel Kategorikal"
   ]
  },
  {
   "cell_type": "code",
   "execution_count": null,
   "id": "ea24f5cc-df95-48bf-86e5-2c8944085811",
   "metadata": {},
   "outputs": [],
   "source": [
    "df['nama_kolom'].value_counts().plot(kind='bar', figsize=(10, 5))\n",
    "plt.show()\n"
   ]
  },
  {
   "cell_type": "markdown",
   "id": "e9b0ba7c-1dde-49a7-8b7f-f069fc0989d9",
   "metadata": {},
   "source": [
    "# Scatter Plot untuk Menentukan Hubungan antara Dua Variabel"
   ]
  },
  {
   "cell_type": "code",
   "execution_count": null,
   "id": "6314462e-8ef4-4352-acc5-cb507d618091",
   "metadata": {},
   "outputs": [],
   "source": [
    "plt.scatter(df['variabel_x'], df['variabel_y'])\n",
    "plt.xlabel('Variabel X')\n",
    "plt.ylabel('Variabel Y')\n",
    "plt.show()\n"
   ]
  },
  {
   "cell_type": "markdown",
   "id": "6a36923b-589a-47dd-ab31-e2aed01e0c72",
   "metadata": {},
   "source": [
    "# Handling Missing Data (Fillna)"
   ]
  },
  {
   "cell_type": "code",
   "execution_count": null,
   "id": "ff469625-d151-4c69-b10d-07d0a3452792",
   "metadata": {},
   "outputs": [],
   "source": [
    "df['nama_kolom'].fillna(df['nama_kolom'].mean(), inplace=True)  # Mengisi missing values dengan rata-rata\n"
   ]
  },
  {
   "cell_type": "markdown",
   "id": "6f4982ea-d524-4541-9adc-c4b5292aba3d",
   "metadata": {},
   "source": [
    "# Drop Missing Data"
   ]
  },
  {
   "cell_type": "code",
   "execution_count": null,
   "id": "870b171c-01de-464c-836c-5042b21b7640",
   "metadata": {},
   "outputs": [],
   "source": [
    "df.dropna(inplace=True)\n"
   ]
  },
  {
   "cell_type": "markdown",
   "id": "da4b20c1-f580-4127-9b1a-d245f400fddb",
   "metadata": {},
   "source": [
    "# Melihat Data Unik dalam Kolom Kategorikal"
   ]
  },
  {
   "cell_type": "code",
   "execution_count": null,
   "id": "ef926006-df3d-4652-86f1-7b94a0520db8",
   "metadata": {},
   "outputs": [],
   "source": [
    "df['nama_kolom'].unique()\n"
   ]
  },
  {
   "cell_type": "markdown",
   "id": "bf00cf52-b95d-4ec9-bbe3-a831acb714ab",
   "metadata": {},
   "source": [
    "# Memeriksa Jumlah Nilai Unik"
   ]
  },
  {
   "cell_type": "code",
   "execution_count": null,
   "id": "fdc40e11-e0c7-48ea-9af1-df6fd4206b8b",
   "metadata": {},
   "outputs": [],
   "source": [
    "df['nama_kolom'].nunique()\n"
   ]
  },
  {
   "cell_type": "markdown",
   "id": "2153a594-b572-4c16-9720-706f3e770c06",
   "metadata": {},
   "source": [
    "# Memfilter Data Berdasarkan Kondisi Tertentu"
   ]
  },
  {
   "cell_type": "code",
   "execution_count": null,
   "id": "e2835f1b-5b97-4e06-8a8f-fadaa43097ff",
   "metadata": {},
   "outputs": [],
   "source": [
    "df_filtered = df[df['nama_kolom'] > nilai_tertentu]\n"
   ]
  },
  {
   "cell_type": "markdown",
   "id": "626ef9a4-f99c-4434-8b36-aa793f4a60fa",
   "metadata": {},
   "source": [
    "# Boxplot untuk Membandingkan Distribusi antar Kelompok"
   ]
  },
  {
   "cell_type": "code",
   "execution_count": null,
   "id": "e20be863-5e5d-4c3e-afb8-6424103c1b88",
   "metadata": {},
   "outputs": [],
   "source": [
    "sns.boxplot(x='variabel_kategorikal', y='variabel_numerik', data=df)\n",
    "plt.show()\n"
   ]
  },
  {
   "cell_type": "markdown",
   "id": "3586409b-ba6e-4a58-a11b-17f2583483cd",
   "metadata": {},
   "source": [
    "# Mengelompokkan Data dengan Quantiles"
   ]
  },
  {
   "cell_type": "code",
   "execution_count": null,
   "id": "1dde88c2-7455-4d07-af65-ba463c53e3d7",
   "metadata": {},
   "outputs": [],
   "source": [
    "df['quantile_kolom'] = pd.qcut(df['nama_kolom'], q=4)  # Membuat quartile (4 kelompok)\n"
   ]
  },
  {
   "cell_type": "markdown",
   "id": "4f63e737-0382-4c7e-aa1d-cbd4273a434b",
   "metadata": {},
   "source": [
    "# Pivot Table untuk Agregasi Data"
   ]
  },
  {
   "cell_type": "code",
   "execution_count": null,
   "id": "9f8326ee-1d18-4740-a0a1-4ede9931e3ec",
   "metadata": {},
   "outputs": [],
   "source": [
    "df.pivot_table(values='nilai', index='kategori', aggfunc='mean')\n"
   ]
  },
  {
   "cell_type": "markdown",
   "id": "3252a80e-883f-44e2-8673-bf12aa2f8df2",
   "metadata": {},
   "source": [
    "# Heatmap dari Missing Values"
   ]
  },
  {
   "cell_type": "code",
   "execution_count": null,
   "id": "26e078de-1e74-4140-9b49-c6ae012d78ed",
   "metadata": {},
   "outputs": [],
   "source": [
    "plt.figure(figsize=(10,6))\n",
    "sns.heatmap(df.isnull(), cbar=False, cmap='viridis')\n",
    "plt.show()\n"
   ]
  },
  {
   "cell_type": "markdown",
   "id": "f8eaff2d-3d9c-4f13-959a-3ee11d8a7fd8",
   "metadata": {},
   "source": [
    "# Menambahkan Kolom Baru Berdasarkan Operasi"
   ]
  },
  {
   "cell_type": "code",
   "execution_count": null,
   "id": "b988bd40-9ca5-4e35-9563-416c0df69139",
   "metadata": {},
   "outputs": [],
   "source": [
    "df['kolom_baru'] = df['kolom1'] + df['kolom2']  # Contoh: penjumlahan dua kolom\n"
   ]
  },
  {
   "cell_type": "markdown",
   "id": "cd89b566-6f5e-4f90-b42c-f98c6e697959",
   "metadata": {},
   "source": [
    "# Encoding Data Kategorikal (One-Hot Encoding)"
   ]
  },
  {
   "cell_type": "code",
   "execution_count": null,
   "id": "ecb2b157-feed-4570-941d-fe94b06fb014",
   "metadata": {},
   "outputs": [],
   "source": [
    "df_encoded = pd.get_dummies(df, columns=['nama_kolom_kategorikal'])\n"
   ]
  },
  {
   "cell_type": "markdown",
   "id": "29e2c11c-aa56-4eec-bee1-dfdce9f31f50",
   "metadata": {},
   "source": [
    "# Memeriksa Korelasi yang Signifikan"
   ]
  },
  {
   "cell_type": "code",
   "execution_count": null,
   "id": "8c7c39ce-3cad-4b98-a86c-84fe81388339",
   "metadata": {},
   "outputs": [],
   "source": [
    "corr_matrix = df.corr()\n",
    "high_corr = corr_matrix[corr_matrix > 0.7]  # Contoh mencari korelasi > 0.7\n",
    "sns.heatmap(high_corr, annot=True, cmap='coolwarm')\n",
    "plt.show()\n"
   ]
  },
  {
   "cell_type": "markdown",
   "id": "8ed9b88a-8d42-4e73-ba81-14596abab2c0",
   "metadata": {},
   "source": [
    "# Menghitung Z-Score untuk Deteksi Outliers"
   ]
  },
  {
   "cell_type": "code",
   "execution_count": null,
   "id": "9e98244d-55e1-4b79-82dd-e3bdcab8b287",
   "metadata": {},
   "outputs": [],
   "source": [
    "from scipy import stats\n",
    "df['zscore'] = stats.zscore(df['nama_kolom'])\n",
    "df_outliers = df[df['zscore'].abs() > 3]\n"
   ]
  },
  {
   "cell_type": "markdown",
   "id": "0b4b0b3e-081a-4218-acba-6cd81677e3dd",
   "metadata": {},
   "source": [
    "# Visualisasi Jointplot"
   ]
  },
  {
   "cell_type": "code",
   "execution_count": null,
   "id": "9a9bba62-732a-4433-9be1-2aefaffc558a",
   "metadata": {},
   "outputs": [],
   "source": [
    "sns.jointplot(x='variabel_x', y='variabel_y', data=df, kind='scatter')\n",
    "plt.show()\n"
   ]
  },
  {
   "cell_type": "markdown",
   "id": "cb038e08-b636-4244-80ef-ba484df340e3",
   "metadata": {},
   "source": [
    "# Pairplot dengan Hue untuk Kategori"
   ]
  },
  {
   "cell_type": "code",
   "execution_count": null,
   "id": "5ed53dac-a8eb-466d-b7c2-a9b335911453",
   "metadata": {},
   "outputs": [],
   "source": [
    "sns.pairplot(df, hue='nama_kategori')\n",
    "plt.show()\n"
   ]
  },
  {
   "cell_type": "markdown",
   "id": "3e3c143b-054d-4ac3-b60e-5717047fc501",
   "metadata": {},
   "source": [
    "# KDE Plot untuk Distribusi Probabilitas"
   ]
  },
  {
   "cell_type": "code",
   "execution_count": null,
   "id": "fa77d1b8-eeb0-488a-b586-ee80d15f92a0",
   "metadata": {},
   "outputs": [],
   "source": [
    "sns.kdeplot(df['nama_kolom'], shade=True)\n",
    "plt.show()\n"
   ]
  },
  {
   "cell_type": "markdown",
   "id": "858216b0",
   "metadata": {},
   "source": [
    "### TAMBAHAN"
   ]
  },
  {
   "cell_type": "markdown",
   "id": "a9c2fccd",
   "metadata": {},
   "source": [
    "# membaca 2 dataset\n",
    "df_train = pd.read_csv(\"train.csv\")\n",
    "df_test = pd.read_csv(\"test.csv\")\n",
    "\n",
    "# menambahkan kolom baru sebagai penanda\n",
    "df_train['set'] = 'train'\n",
    "df_test['set'] = 'test'\n",
    "\n",
    "# menggabungkan 2 dataset menjadi 1\n",
    "df = pd.concat([df_train, df_test], axis=0).reset_index(drop=True)"
   ]
  },
  {
   "cell_type": "code",
   "execution_count": null,
   "id": "6c46de2b",
   "metadata": {},
   "outputs": [],
   "source": [
    "# mengubah bentuk waktu\n",
    "df['timestamp'] = pd.to_datetime(df['timestamp'], format='%b %d, %Y @ %H:%M:%S.%f')\n",
    "df_copy = df.sort_values(by='timestamp').iloc[500:1000]\n",
    "# Plotting\n",
    "plt.figure(figsize=(10, 6))\n",
    "\n",
    "# Plotting a line plot for \"non-attack\"\n",
    "plt.plot(df_copy.dropna(subset='rule.mitre.tactic')['timestamp'], df_copy.dropna(subset='rule.mitre.tactic')['rule.mitre.tactic'],marker='o')\n",
    "# ada 2 dropna. \n",
    "# dropna pertama mengahapus value kosong dan mengambil timestamp sebagai sumbu x\n",
    "# dropna kedua menghapus value kosong dan mengambil rule.mitre.tactic sebagai sumbu y\n",
    "\n",
    "# visualisasi\n",
    "plt.xlabel('Timestamp')\n",
    "plt.ylabel('rule.mitre.tactic')\n",
    "plt.title('Line Plot by rule.mitre.tactic')\n",
    "plt.legend()\n",
    "plt.show()"
   ]
  },
  {
   "cell_type": "code",
   "execution_count": null,
   "id": "ab980d08",
   "metadata": {},
   "outputs": [],
   "source": []
  }
 ],
 "metadata": {
  "kernelspec": {
   "display_name": "Python 3 (ipykernel)",
   "language": "python",
   "name": "python3"
  },
  "language_info": {
   "codemirror_mode": {
    "name": "ipython",
    "version": 3
   },
   "file_extension": ".py",
   "mimetype": "text/x-python",
   "name": "python",
   "nbconvert_exporter": "python",
   "pygments_lexer": "ipython3",
   "version": "3.12.4"
  }
 },
 "nbformat": 4,
 "nbformat_minor": 5
}
