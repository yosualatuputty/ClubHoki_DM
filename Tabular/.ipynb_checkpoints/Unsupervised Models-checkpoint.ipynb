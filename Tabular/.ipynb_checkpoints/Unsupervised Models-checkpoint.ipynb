{
 "cells": [
  {
   "cell_type": "markdown",
   "id": "d0d4e499-8fdd-4365-bbe5-214cbc919ba0",
   "metadata": {},
   "source": [
    "# Association"
   ]
  },
  {
   "cell_type": "markdown",
   "id": "b41b8d1c-8861-446f-9b00-7280e7a88949",
   "metadata": {},
   "source": [
    "## a. Apriori Algorithm"
   ]
  },
  {
   "cell_type": "code",
   "execution_count": 2,
   "id": "211f191f-2200-4e82-bd4b-ddc2e199d1d8",
   "metadata": {},
   "outputs": [],
   "source": [
    "from mlxtend.frequent_patterns import apriori, association_rules\n",
    "\n",
    "# Assuming `df` is a one-hot encoded DataFrame\n",
    "frequent_itemsets = apriori(df, min_support=0.5, use_colnames=True)\n",
    "rules = association_rules(frequent_itemsets, metric=\"confidence\", min_threshold=0.7)"
   ]
  },
  {
   "cell_type": "markdown",
   "id": "77e3f0a0-55ec-4149-8694-ef72b6e968bc",
   "metadata": {},
   "source": [
    "# Clustering"
   ]
  },
  {
   "cell_type": "markdown",
   "id": "2b7df5ff-1418-4545-9d5e-c6c068acc537",
   "metadata": {},
   "source": [
    "## a. K-Means"
   ]
  },
  {
   "cell_type": "code",
   "execution_count": 2,
   "id": "4110efc1-64d7-47b0-b5d8-3c9643c8fb17",
   "metadata": {},
   "outputs": [],
   "source": [
    "from sklearn.cluster import KMeans\n",
    "\n",
    "kmeans = KMeans(n_clusters=3, random_state=42)\n",
    "kmeans.fit(X)\n",
    "labels = kmeans.predict(X)"
   ]
  },
  {
   "cell_type": "markdown",
   "id": "7207f357-e581-4569-bbb0-9f4066abed62",
   "metadata": {},
   "source": [
    "## b. Hierarchical"
   ]
  },
  {
   "cell_type": "code",
   "execution_count": 3,
   "id": "90e93271-fee0-41bd-9a77-cbfb2da292b7",
   "metadata": {},
   "outputs": [],
   "source": [
    "from sklearn.cluster import AgglomerativeClustering\n",
    "\n",
    "clustering = AgglomerativeClustering(n_clusters=3)\n",
    "labels = clustering.fit_predict(X)"
   ]
  },
  {
   "cell_type": "markdown",
   "id": "f49e4af2-faee-406b-9981-27601f2a8de8",
   "metadata": {},
   "source": [
    "## c. DBSCAN"
   ]
  },
  {
   "cell_type": "code",
   "execution_count": 3,
   "id": "8bcb5021-b13f-4d2b-8571-c6dda35777a2",
   "metadata": {},
   "outputs": [],
   "source": [
    "from sklearn.cluster import DBSCAN\n",
    "\n",
    "dbscan = DBSCAN(eps=0.5, min_samples=5)\n",
    "labels = dbscan.fit_predict(X)"
   ]
  },
  {
   "cell_type": "markdown",
   "id": "d36607a3-9208-4cd0-882d-4572353d48a2",
   "metadata": {},
   "source": [
    "# Anomaly Detection"
   ]
  },
  {
   "cell_type": "markdown",
   "id": "65926a12-9cdc-46d4-acd3-754d0d5ce053",
   "metadata": {},
   "source": [
    "## a. One-Class SVM"
   ]
  },
  {
   "cell_type": "code",
   "execution_count": 3,
   "id": "a5a741c0-a6b8-4367-b372-77bc4d349b46",
   "metadata": {},
   "outputs": [],
   "source": [
    "from sklearn.cluster import DBSCAN\n",
    "\n",
    "dbscan = DBSCAN(eps=0.5, min_samples=5)\n",
    "labels = dbscan.fit_predict(X)"
   ]
  },
  {
   "cell_type": "markdown",
   "id": "20019766-a5cd-4c99-831c-7ac0777b2f18",
   "metadata": {},
   "source": [
    "## b. Isolation Forest"
   ]
  },
  {
   "cell_type": "code",
   "execution_count": 3,
   "id": "e29e66ce-bde0-4619-a657-27ac51e290da",
   "metadata": {},
   "outputs": [],
   "source": [
    "from sklearn.ensemble import IsolationForest\n",
    "\n",
    "iso_forest = IsolationForest(contamination=0.1, random_state=42)\n",
    "anomalies = iso_forest.fit_predict(X)"
   ]
  },
  {
   "cell_type": "markdown",
   "id": "6967936d-7dbc-48f7-b833-465e31398d3f",
   "metadata": {},
   "source": [
    "# Dimensionality Reduction"
   ]
  },
  {
   "cell_type": "markdown",
   "id": "6c1e79fd-92bf-4d07-a3ff-19dde8098a16",
   "metadata": {},
   "source": [
    "## a. PCA"
   ]
  },
  {
   "cell_type": "code",
   "execution_count": null,
   "id": "03e0ed4f-2276-4d98-b72c-a7f72902d6e6",
   "metadata": {},
   "outputs": [],
   "source": [
    "from sklearn.decomposition import PCA\n",
    "\n",
    "pca = PCA(n_components=2)\n",
    "X_reduced = pca.fit_transform(X)"
   ]
  },
  {
   "cell_type": "markdown",
   "id": "385bdd3c-fa9b-4f0c-b6cf-2fd69063dafb",
   "metadata": {},
   "source": [
    "## b. t-SNE"
   ]
  },
  {
   "cell_type": "code",
   "execution_count": null,
   "id": "57bed27a-c9ac-4c0e-9a54-263f915bde03",
   "metadata": {},
   "outputs": [],
   "source": [
    "from sklearn.manifold import TSNE\n",
    "\n",
    "tsne = TSNE(n_components=2, perplexity=30)\n",
    "X_reduced = tsne.fit_transform(X)"
   ]
  },
  {
   "cell_type": "markdown",
   "id": "da759507-1236-4991-9816-833a00ef9189",
   "metadata": {},
   "source": [
    "## c. LDA"
   ]
  },
  {
   "cell_type": "code",
   "execution_count": null,
   "id": "96b61c48-f99b-4672-b413-c40a9d0794b0",
   "metadata": {},
   "outputs": [],
   "source": [
    "from sklearn.discriminant_analysis import LinearDiscriminantAnalysis\n",
    "\n",
    "lda = LinearDiscriminantAnalysis(n_components=2)\n",
    "X_reduced = lda.fit_transform(X, y)"
   ]
  }
 ],
 "metadata": {
  "kernelspec": {
   "display_name": "Python 3 (ipykernel)",
   "language": "python",
   "name": "python3"
  },
  "language_info": {
   "codemirror_mode": {
    "name": "ipython",
    "version": 3
   },
   "file_extension": ".py",
   "mimetype": "text/x-python",
   "name": "python",
   "nbconvert_exporter": "python",
   "pygments_lexer": "ipython3",
   "version": "3.12.4"
  }
 },
 "nbformat": 4,
 "nbformat_minor": 5
}
