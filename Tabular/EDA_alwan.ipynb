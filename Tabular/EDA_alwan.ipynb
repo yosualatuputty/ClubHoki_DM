{
 "cells": [
  {
   "cell_type": "markdown",
   "id": "44207baa-e083-4dde-9228-30233ebe8678",
   "metadata": {},
   "source": [
    "# Encoding"
   ]
  },
  {
   "cell_type": "markdown",
   "id": "4516c7d6-7cec-41df-a851-68e5ea2e2d43",
   "metadata": {},
   "source": [
    "## Label Encoding"
   ]
  },
  {
   "cell_type": "code",
   "execution_count": 4,
   "id": "c2c62bdd-3034-41ee-8ba0-288a614c9615",
   "metadata": {},
   "outputs": [],
   "source": [
    "# bisa digunakan untuk data sedikit ataupun banyak hanya saja nomer labelnya akan acak\n",
    "# gunakan jika data sedikit dan tidak memiliki urutan"
   ]
  },
  {
   "cell_type": "markdown",
   "id": "1d226344-af6a-440c-bfe1-81bafcca4859",
   "metadata": {},
   "source": [
    "#### Melakukan encode untuk 2 dataset sekaligus dan membuat menjadi 2 "
   ]
  },
  {
   "cell_type": "code",
   "execution_count": null,
   "id": "ba16a3be-7d8c-4d74-939a-ae4ad71cd7c3",
   "metadata": {},
   "outputs": [],
   "source": [
    "# Create a label encoder object\n",
    "le = LabelEncoder()\n",
    "le_count = 0\n",
    "\n",
    "# Iterate through the columns\n",
    "for col in app_train:\n",
    "    if app_train[col].dtype == 'object':\n",
    "        # If 2 or fewer unique categories\n",
    "        if len(list(app_train[col].unique())) <= 2:\n",
    "            # Train on the training data\n",
    "            le.fit(app_train[col])\n",
    "            # Transform both training and testing data\n",
    "            app_train[col] = le.transform(app_train[col])\n",
    "            app_test[col] = le.transform(app_test[col])\n",
    "            \n",
    "            # Keep track of how many columns were label encoded\n",
    "            le_count += 1\n",
    "            \n",
    "print('%d columns were label encoded.' % le_count)\n",
    "app_train.head()\n",
    "app_test.head()"
   ]
  },
  {
   "cell_type": "markdown",
   "id": "0f0b9988-94f8-49b0-8100-65df434f7a23",
   "metadata": {},
   "source": [
    "### Melakukan encode untuk 1 dataset dan membuat menjadi 2 nilai"
   ]
  },
  {
   "cell_type": "code",
   "execution_count": null,
   "id": "91057cd4-f061-49a7-8784-1e59ef771c37",
   "metadata": {},
   "outputs": [],
   "source": [
    "# Create a label encoder object\n",
    "le = LabelEncoder()\n",
    "le_count = 0\n",
    "\n",
    "# Iterate through the columns\n",
    "for col in app_train:\n",
    "    if app_train[col].dtype == 'object':\n",
    "        # If 2 or fewer unique categories\n",
    "        if len(list(app_train[col].unique())) <= 2:\n",
    "            # Train on the training data\n",
    "            le.fit(app_train[col])\n",
    "            # Transform the training data\n",
    "            app_train[col] = le.transform(app_train[col])\n",
    "            \n",
    "            # Keep track of how many columns were label encoded\n",
    "            le_count += 1\n",
    "            \n",
    "print('%d columns were label encoded.' % le_count)\n",
    "app_train.head()"
   ]
  },
  {
   "cell_type": "markdown",
   "id": "925602f9-28e3-4ae4-a528-4936b8b941ca",
   "metadata": {},
   "source": [
    "### Melakukan encode untuk suatu dataaset dan membuat valuenya berdasarkan jumlah unique nya"
   ]
  },
  {
   "cell_type": "code",
   "execution_count": null,
   "id": "05ec01f8-5aa0-416d-8b7c-d0c61cddb110",
   "metadata": {},
   "outputs": [],
   "source": [
    "# Create a label encoder object\n",
    "le = LabelEncoder()\n",
    "\n",
    "# Iterate through the columns\n",
    "for col in app_train:\n",
    "    if app_train[col].dtype == 'object':\n",
    "        # Train on the training data\n",
    "        le.fit(app_train[col])\n",
    "        # Transform the training data\n",
    "        app_train[col] = le.transform(app_train[col])\n",
    "        \n",
    "print('All categorical columns were label encoded.')\n",
    "app_train.head()"
   ]
  },
  {
   "cell_type": "code",
   "execution_count": 3,
   "id": "2091af3c-e186-458f-a451-b38a5ffdef02",
   "metadata": {},
   "outputs": [],
   "source": [
    "#### Sebelum Encoding:\n",
    "#### Ukuran\n",
    "\n",
    "#### Kecil\n",
    "#### Sedang\t \n",
    "#### Besar\n",
    "#### Kecil\n",
    "\n",
    "#### Setelah Label Encoding:\n",
    "\n",
    "#### Ukuran\t         \n",
    "\n",
    "#### 0\t             0\n",
    "#### 1\t             1\n",
    "#### 2\t             1\n",
    "#### 0\t             0\n",
    "\n",
    "#### Sebelum Encoding:\n",
    "#### Gender\n",
    "\n",
    "#### Male\n",
    "#### Female\n",
    "#### Female\n",
    "#### Male\n",
    "\n",
    "#### Setelah Encoding:\n",
    "\n",
    "#### Gender\n",
    "\n",
    "#### 0\n",
    "#### 1\n",
    "#### 1\n",
    "#### 0"
   ]
  },
  {
   "cell_type": "markdown",
   "id": "023bbaf5-ef15-4725-9839-8f5166cb06c7",
   "metadata": {},
   "source": [
    "### Mengetahui urutan"
   ]
  },
  {
   "cell_type": "code",
   "execution_count": null,
   "id": "d3b2b357-8967-4113-a300-acd3373033a3",
   "metadata": {},
   "outputs": [],
   "source": [
    "# Create a label encoder object\n",
    "le = LabelEncoder()\n",
    "\n",
    "# Fit and transform the 'City' column\n",
    "le.fit(app_train['City'])\n",
    "\n",
    "# Print the mapping of classes to integers\n",
    "print('City column mapping:')\n",
    "print(dict(zip(le.classes_, le.transform(le.classes_))))"
   ]
  },
  {
   "cell_type": "markdown",
   "id": "9a339286-9bb3-45dc-bfd6-584036c647cc",
   "metadata": {},
   "source": [
    "## One-hot Encoding"
   ]
  },
  {
   "cell_type": "code",
   "execution_count": 5,
   "id": "3d2fdfc3-3ce6-49ed-97a5-0d2542b290cb",
   "metadata": {},
   "outputs": [],
   "source": [
    "## digunakan jika data banyak dan tidak memiliki hubungan"
   ]
  },
  {
   "cell_type": "markdown",
   "id": "3f664f46-9b4f-4493-9f5c-24a1035b1017",
   "metadata": {},
   "source": [
    "## Melakukan encode untuk kolom tertentu"
   ]
  },
  {
   "cell_type": "code",
   "execution_count": null,
   "id": "83d6bd67-f512-426a-8527-d4a096b7c25d",
   "metadata": {},
   "outputs": [],
   "source": [
    "df_encoded = pd.get_dummies(df, columns=['nama kolom', 'nama kolom'], drop_first=True)"
   ]
  },
  {
   "cell_type": "markdown",
   "id": "32ab06c4-38cc-496f-b87e-4a055562d508",
   "metadata": {},
   "source": [
    "## Melakukan encode untuk seluruh kolom"
   ]
  },
  {
   "cell_type": "code",
   "execution_count": null,
   "id": "2ad56592-ddda-4d27-85db-6bd24249359e",
   "metadata": {},
   "outputs": [],
   "source": [
    "app_train = pd.get_dummies(app_train)"
   ]
  },
  {
   "cell_type": "code",
   "execution_count": 8,
   "id": "18f2b108-3b52-4fb4-be44-f94e66bd9d40",
   "metadata": {},
   "outputs": [],
   "source": [
    "## DataFrame Sebelum One-Hot Encoding:\n",
    "##        Fruit    Color\n",
    "## 0       Apple      Red\n",
    "## 1      Banana   Yellow\n",
    "## 2        Date    Brown\n",
    "## 4  Elderberry   Purple\n",
    "\n",
    "## DataFrame Setelah One-Hot Encoding:\n",
    "##   Color_Brown  Color_Purple  Color_Red  Color_Yellow  Fruit_Banana  Fruit_Apple  Fruit_Date  Fruit_Elderberry\n",
    "##0            0             0           1            0             0            1           0                 0\n",
    "##1            0             0           0            1             1            0           0                 0\n",
    "##2            1             0           0            0             0            0           1                 0 \n",
    "##4            0             1           0            0             0            0           0                 1"
   ]
  },
  {
   "cell_type": "markdown",
   "id": "efde1aab-c2a8-4a87-9e88-97f401891a66",
   "metadata": {},
   "source": [
    "## Ordinal Encoding"
   ]
  },
  {
   "cell_type": "code",
   "execution_count": 9,
   "id": "de2e04a3-c6b0-4747-ad5b-72c6edf2f2bc",
   "metadata": {},
   "outputs": [],
   "source": [
    "## aman digunakan untuk kategori banyak dan memiliki urutan"
   ]
  },
  {
   "cell_type": "code",
   "execution_count": null,
   "id": "20251c01-1bfe-4c05-9c15-80a9ee4f66e7",
   "metadata": {},
   "outputs": [],
   "source": [
    "# Tentukan urutan ukuran secara manual\n",
    "size_order = {'S': 1, 'M': 2, 'L': 3, 'XL': 4, 'XXL': 5}\n",
    "\n",
    "# Terapkan encoding berdasarkan urutan\n",
    "df['Size_encoded'] = df['Size'].map(size_order)"
   ]
  },
  {
   "cell_type": "markdown",
   "id": "1f483294-3f3a-4f4d-8f6c-b69bd4bc5c81",
   "metadata": {},
   "source": [
    "# Korelasi"
   ]
  },
  {
   "cell_type": "markdown",
   "id": "1ca65e81-b7c7-48d7-a93b-ee23f726d9ee",
   "metadata": {},
   "source": [
    "### dataset"
   ]
  },
  {
   "cell_type": "code",
   "execution_count": null,
   "id": "b49747b8-41a5-423b-89f5-fe765f16faff",
   "metadata": {},
   "outputs": [],
   "source": [
    "data = {\n",
    "    'Kategori': np.random.choice(['A', 'B', 'C'], size=100),\n",
    "    'Nilai': np.random.randn(100) * 10 + 20,\n",
    "    'Waktu': pd.date_range(start='2023-01-01', periods=100, freq='D')\n",
    "}\n",
    "\n",
    "df = pd.DataFrame(data)"
   ]
  },
  {
   "cell_type": "markdown",
   "id": "9073ed22-b9ea-4afd-b446-6fc1449d76b8",
   "metadata": {},
   "source": [
    "## Plot Garis: Cocok untuk data waktu (time series)."
   ]
  },
  {
   "cell_type": "code",
   "execution_count": null,
   "id": "e10b140f-49fc-4c95-84e0-7abb19bd2d99",
   "metadata": {},
   "outputs": [],
   "source": [
    "plt.figure(figsize=(10, 5))\n",
    "plt.plot(df['Waktu'], df['Nilai'], label='Nilai', color='blue')\n",
    "plt.title('Plot Garis Nilai dari Waktu')\n",
    "plt.xlabel('Waktu')\n",
    "plt.ylabel('Nilai')\n",
    "plt.xticks(rotation=45)\n",
    "plt.legend()\n",
    "plt.grid()\n",
    "plt.show()"
   ]
  },
  {
   "cell_type": "markdown",
   "id": "af47e511-9fcf-4e88-9c91-fd4a4a6a6fb5",
   "metadata": {},
   "source": [
    "## Scatter Plot: Bagus untuk melihat hubungan antara variabel."
   ]
  },
  {
   "cell_type": "code",
   "execution_count": null,
   "id": "ec354162-39bf-40cf-aabe-32a27a5d51a7",
   "metadata": {},
   "outputs": [],
   "source": [
    "sns.scatterplot(x='Nilai', y='Kategori', data=df, hue='Kategori')\n",
    "plt.title('Scatter Plot Nilai per Kategori')\n",
    "plt.xlabel('Nilai')\n",
    "plt.ylabel('Kategori')\n",
    "plt.show()"
   ]
  },
  {
   "cell_type": "markdown",
   "id": "105d97a5-df5e-4bad-b1b3-3ecda3a30be2",
   "metadata": {},
   "source": [
    "## Histogram: Menunjukkan distribusi data."
   ]
  },
  {
   "cell_type": "code",
   "execution_count": null,
   "id": "0275a76c-d97a-49ca-ad3c-ef18b867da4a",
   "metadata": {},
   "outputs": [],
   "source": [
    "plt.figure(figsize=(8, 5))\n",
    "sns.histplot(df['Nilai'], bins=20, color='purple', kde=True)\n",
    "plt.title('Histogram Nilai')\n",
    "plt.xlabel('Nilai')\n",
    "plt.ylabel('Frekuensi')\n",
    "plt.show()"
   ]
  },
  {
   "cell_type": "markdown",
   "id": "294cc79c-c8ce-4bda-8082-eb12e1a5eaf9",
   "metadata": {},
   "source": [
    "## Box Plot: Menampilkan distribusi dan outliers."
   ]
  },
  {
   "cell_type": "code",
   "execution_count": null,
   "id": "9228c67e-a69f-4514-ab07-53af577be912",
   "metadata": {},
   "outputs": [],
   "source": [
    "plt.figure(figsize=(8, 5))\n",
    "sns.boxplot(x='Kategori', y='Nilai', data=df)\n",
    "plt.title('Box Plot Nilai per Kategori')\n",
    "plt.xlabel('Kategori')\n",
    "plt.ylabel('Nilai')\n",
    "plt.show()"
   ]
  },
  {
   "cell_type": "markdown",
   "id": "aaeb7e96-df54-4639-bfe4-01edd1141ae5",
   "metadata": {},
   "source": [
    "## Heatmap: Cocok untuk menampilkan matriks atau hubungan antara dua variabel."
   ]
  },
  {
   "cell_type": "code",
   "execution_count": null,
   "id": "701c5d37-84de-483f-91ca-1a2eeef7ddf8",
   "metadata": {},
   "outputs": [],
   "source": [
    "# Menghitung nilai rata-rata per kategori\n",
    "heatmap_data = df.groupby('Kategori')['Nilai'].mean().reset_index()\n",
    "heatmap_data = heatmap_data.pivot(\"Kategori\", \"Nilai\", \"Nilai\")\n",
    "\n",
    "plt.figure(figsize=(6, 4))\n",
    "sns.heatmap(heatmap_data, annot=True, cmap='coolwarm')\n",
    "plt.title('Heatmap Rata-rata Nilai per Kategori')\n",
    "plt.show()\n",
    "\n",
    "#contoh lain\n",
    "import pandas as pd\n",
    "\n",
    "# Membuat DataFrame dengan data acak\n",
    "df = pd.DataFrame({\n",
    "    'A': np.random.rand(100),\n",
    "    'B': np.random.rand(100),\n",
    "    'C': np.random.rand(100),\n",
    "    'D': np.random.rand(100)\n",
    "})\n",
    "\n",
    "# Menghitung matriks korelasi\n",
    "corr_matrix = df.corr()\n",
    "\n",
    "# Membuat heatmap dari matriks korelasi\n",
    "plt.figure(figsize=(8, 6))\n",
    "sns.heatmap(corr_matrix, annot=True, cmap='coolwarm', square=True)\n",
    "plt.title('Heatmap Korelasi')\n",
    "plt.show()\n"
   ]
  },
  {
   "cell_type": "markdown",
   "id": "81eb3b81-d50f-4575-a511-d6f9a91d1f0e",
   "metadata": {},
   "source": [
    "## Pie Chart: Menunjukkan proporsi kategori."
   ]
  },
  {
   "cell_type": "code",
   "execution_count": null,
   "id": "7800807d-f0c2-453d-a731-39fbcbb6f4e3",
   "metadata": {},
   "outputs": [],
   "source": [
    "plt.figure(figsize=(6, 6))\n",
    "sizes = df['Kategori'].value_counts()\n",
    "plt.pie(sizes, labels=sizes.index, autopct='%1.1f%%', startangle=90)\n",
    "plt.title('Distribusi Kategori')\n",
    "plt.axis('equal')\n",
    "plt.show()"
   ]
  },
  {
   "cell_type": "markdown",
   "id": "ef5f78ac-997b-4e54-9756-a2b9d210ff7d",
   "metadata": {},
   "source": [
    "## Bar Chart: Untuk perbandingan antar kategori."
   ]
  },
  {
   "cell_type": "code",
   "execution_count": null,
   "id": "f794a3a1-4c80-4c36-be64-ea9be983516c",
   "metadata": {},
   "outputs": [],
   "source": [
    "plt.figure(figsize=(8, 5))\n",
    "sns.barplot(x='Kategori', y='Nilai', data=df, estimator=np.mean)\n",
    "plt.title('Rata-rata Nilai per Kategori')\n",
    "plt.xlabel('Kategori')\n",
    "plt.ylabel('Rata-rata Nilai')\n",
    "plt.show()"
   ]
  }
 ],
 "metadata": {
  "kernelspec": {
   "display_name": "Python 3 (ipykernel)",
   "language": "python",
   "name": "python3"
  },
  "language_info": {
   "codemirror_mode": {
    "name": "ipython",
    "version": 3
   },
   "file_extension": ".py",
   "mimetype": "text/x-python",
   "name": "python",
   "nbconvert_exporter": "python",
   "pygments_lexer": "ipython3",
   "version": "3.12.3"
  }
 },
 "nbformat": 4,
 "nbformat_minor": 5
}
