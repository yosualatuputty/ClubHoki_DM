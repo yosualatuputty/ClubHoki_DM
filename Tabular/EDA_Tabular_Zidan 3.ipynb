{
 "cells": [
  {
   "cell_type": "markdown",
   "id": "ed913a46-2ed3-40a2-9b98-a3f9f9d0c22b",
   "metadata": {},
   "source": [
    "# Statistika Dasar"
   ]
  },
  {
   "cell_type": "code",
   "execution_count": null,
   "id": "89f0fbb0-8c92-4d4a-850f-0e6fdeea33f6",
   "metadata": {},
   "outputs": [],
   "source": []
  },
  {
   "cell_type": "markdown",
   "id": "d2e32c93-a059-4c0c-a6fc-fc7093ec92ad",
   "metadata": {},
   "source": [
    "# Melihat 5 Data Teratas"
   ]
  },
  {
   "cell_type": "code",
   "execution_count": null,
   "id": "aaa00ba9-c11d-4a1e-a2c2-90e000f87973",
   "metadata": {},
   "outputs": [],
   "source": [
    "df.head()\n"
   ]
  },
  {
   "cell_type": "markdown",
   "id": "b880e682-c7bc-41c3-aeb2-d605a17585da",
   "metadata": {},
   "source": [
    "# Informasi Umum Dataset"
   ]
  },
  {
   "cell_type": "code",
   "execution_count": null,
   "id": "289e91f0-8b1d-40b3-a47d-36530d07ada3",
   "metadata": {},
   "outputs": [],
   "source": [
    "df.info()\n"
   ]
  },
  {
   "cell_type": "markdown",
   "id": "86d2df55-ab8f-4e32-a466-ee97332f1f88",
   "metadata": {},
   "source": [
    "# Deskripsi Statistik dari Kolom Numerik"
   ]
  },
  {
   "cell_type": "code",
   "execution_count": null,
   "id": "26a1cc3e-48ae-409a-9219-99d36aca97f5",
   "metadata": {},
   "outputs": [],
   "source": [
    "df.describe()\n"
   ]
  },
  {
   "cell_type": "markdown",
   "id": "93210f51-3ebf-4f92-8e2f-8374adfb7059",
   "metadata": {},
   "source": [
    "# lambda"
   ]
  },
  {
   "cell_type": "code",
   "execution_count": null,
   "id": "cf38a5b9-2ca0-4f6d-adf1-20b39fa45813",
   "metadata": {},
   "outputs": [],
   "source": [
    "# Memfilter DataFrame untuk menemukan orang dengan umur lebih dari 30\n",
    "filtered_df = df[df['Umur'].apply(lambda x: x > 30)]\n",
    "print(\"Orang dengan umur lebih dari 30:\")\n",
    "print(filtered_df)\n",
    "\n",
    "------------------------------------------------------------------------------------------------------\n",
    "\n",
    "# Menambahkan kolom baru berdasarkan kondisi\n",
    "df['Kategori'] = df['Umur'].apply(lambda x: 'Dewasa' if x >= 18 else 'Remaja')\n",
    "print(\"\\nDataFrame dengan kolom Kategori:\")\n",
    "print(df)\n",
    "\n",
    "------------------------------------------------------------------------------------------------------\n",
    "\n",
    "# Menghitung pajak berdasarkan pendapatan\n",
    "df['Pajak'] = df['Pendapatan'].apply(lambda x: x * 0.1)\n",
    "print(\"\\nDataFrame dengan kolom Pajak:\")\n",
    "print(df)\n",
    "\n",
    "------------------------------------------------------------------------------------------------------\n",
    "\n",
    "# Mengganti nama jika 'Bob'\n",
    "df['Nama'] = df['Nama'].apply(lambda x: 'Robert' if x == 'Bob' else x)\n",
    "print(\"\\nDataFrame setelah mengganti nama Bob:\")\n",
    "print(df)\n",
    "\n",
    "------------------------------------------------------------------------------------------------------\n",
    "\n",
    "# Memfilter untuk menampilkan nilai yang merupakan string\n",
    "string_nama = df[df['Nama'].apply(lambda x: isinstance(x, str))]\n",
    "print(\"\\nNilai string di kolom Nama:\")\n",
    "print(string_nama)\n",
    "\n",
    "------------------------------------------------------------------------------------------------------\n",
    "\n",
    "# Menghitung rata-rata pendapatan untuk orang di atas umur 30\n",
    "average_income = df[df['Umur'] > 30]['Pendapatan'].apply(lambda x: x).mean()\n",
    "print(\"\\nRata-rata pendapatan untuk orang di atas umur 30:\", average_income)\n",
    "\n",
    "------------------------------------------------------------------------------------------------------\n",
    "\n",
    "# Mengubah format umur menjadi string\n",
    "df['Umur_Str'] = df['Umur'].map(lambda x: str(x) + ' tahun')\n",
    "print(\"\\nDataFrame dengan kolom Umur_Str:\")\n",
    "print(df)\n",
    "\n",
    "------------------------------------------------------------------------------------------------------\n",
    "\n",
    "# Menggabungkan nama dan kategori\n",
    "df['Nama_Kategori'] = df.apply(lambda row: f\"{row['Nama']} - {row['Kategori']}\", axis=1)\n",
    "print(\"\\nDataFrame dengan kolom Nama_Kategori:\")\n",
    "print(df[['Nama', 'Kategori', 'Nama_Kategori']])\n"
   ]
  },
  {
   "cell_type": "markdown",
   "id": "23b69e84-c9f8-4d89-a7c5-3313492c49c8",
   "metadata": {},
   "source": [
    "# Mengakses data"
   ]
  },
  {
   "cell_type": "code",
   "execution_count": null,
   "id": "04c757ca-5cf8-43fb-956f-324f7dcf8e34",
   "metadata": {},
   "outputs": [],
   "source": [
    "# Membuat DataFrame contoh\n",
    "data = {'A': [1, 2, 3], 'B': [4, 5, 6]}\n",
    "df = pd.DataFrame(data)\n",
    "# Mengakses index dari DataFrame\n",
    "print(\"\\nIndex dari DataFrame:\")\n",
    "print(df.index)\n",
    "\n",
    "------------------------------------------------------------------------------------------------------\n",
    "\n",
    "# Mengatur kolom 'A' sebagai index\n",
    "df.set_index('A', inplace=True)\n",
    "\n",
    "------------------------------------------------------------------------------------------------------\n",
    "\n",
    "# Mengakses baris dengan label tertentu\n",
    "print(\"\\nBaris dengan label 1:\")\n",
    "print(df.loc[1])  # Mengakses baris dengan index 1 (Bob)\n",
    "\n",
    "------------------------------------------------------------------------------------------------------\n",
    "\n",
    "# Mengakses baris berdasarkan posisi\n",
    "print(\"\\nBaris pertama (indeks 0):\")\n",
    "print(df.iloc[0])  # Mengakses baris pertama (Alice)\n",
    "\n",
    "------------------------------------------------------------------------------------------------------\n",
    "\n",
    "# Mengakses beberapa baris dan kolom\n",
    "print(\"\\nBaris 0 dan 2, kolom 'Name' dan 'City':\")\n",
    "print(df.loc[[0, 2], ['Name', 'City']])\n",
    "\n",
    "------------------------------------------------------------------------------------------------------\n",
    "\n",
    "# Mengakses baris berdasarkan kondisi\n",
    "print(\"\\nBaris di mana Age lebih dari 30:\")\n",
    "print(df[df['Age'] > 30])\n",
    "\n",
    "------------------------------------------------------------------------------------------------------\n",
    "\n",
    "# Mengakses menggunakan slicing\n",
    "print(\"\\nMengakses baris dari 0 sampai 2:\")\n",
    "print(df[0:2])  # Mengakses baris 0 dan 1\n",
    "\n",
    "------------------------------------------------------------------------------------------------------\n",
    "\n",
    "# Mengakses index\n",
    "print(\"\\nIndex dari DataFrame:\")\n",
    "print(df.index)\n",
    "\n",
    "------------------------------------------------------------------------------------------------------\n",
    "\n",
    "# Mengatur kolom 'Name' sebagai index\n",
    "df.set_index('Name', inplace=True)\n",
    "print(\"\\nDataFrame setelah index diubah:\")\n",
    "print(df)\n",
    "\n",
    "------------------------------------------------------------------------------------------------------\n",
    "\n",
    "# Mengakses baris dengan nama index\n",
    "print(\"\\nBaris dengan index 'Alice':\")\n",
    "print(df.loc['Alice'])\n",
    "\n",
    "------------------------------------------------------------------------------------------------------\n",
    "\n",
    "# Mengatur ulang index ke default\n",
    "df.reset_index(inplace=True)\n",
    "print(\"\\nDataFrame setelah reset index:\")\n",
    "print(df)\n",
    "\n",
    "------------------------------------------------------------------------------------------------------\n",
    "\n",
    "# Menampilkan nilai yang bukan integer dari kolom 'Umur'\n",
    "bukan_int_umur = df[~df['Umur'].apply(lambda x: isinstance(x, int))]\n",
    "print(\"\\nNilai di kolom 'Umur' yang bukan integer:\")\n",
    "print(bukan_int_umur)\n",
    "\n",
    "# Menampilkan nilai yang bukan integer dari kolom 'Pendapatan'\n",
    "bukan_int_pendapatan = df[~df['Pendapatan'].apply(lambda x: isinstance(x, int))]\n",
    "print(\"\\nNilai di kolom 'Pendapatan' yang bukan integer:\")\n",
    "print(bukan_int_pendapatan)\n",
    "\n",
    "------------------------------------------------------------------------------------------------------\n",
    "\n",
    "# Menampilkan nilai string dari kolom 'Umur'\n",
    "string_umur = df[df['Umur'].apply(lambda x: isinstance(x, str))]\n",
    "print(\"\\nNilai string di kolom 'Umur':\")\n",
    "print(string_umur)\n",
    "\n",
    "# Menampilkan nilai string dari kolom 'Pendapatan'\n",
    "string_pendapatan = df[df['Pendapatan'].apply(lambda x: isinstance(x, str))]\n",
    "print(\"\\nNilai string di kolom 'Pendapatan':\")\n",
    "print(string_pendapatan)\n"
   ]
  },
  {
   "cell_type": "markdown",
   "id": "49493e1f-30f6-448c-9140-541c6facf804",
   "metadata": {},
   "source": [
    "# Loc dan Iloc"
   ]
  },
  {
   "cell_type": "markdown",
   "id": "37e826a5-3b31-47c0-a93d-74a2eec0937c",
   "metadata": {},
   "source": [
    "## 1. loc\n",
    "loc digunakan untuk mengakses data berdasarkan label index dan nama kolom.\n",
    "Ini dapat digunakan untuk memilih baris dan kolom dengan menggunakan nama atau label yang ada."
   ]
  },
  {
   "cell_type": "code",
   "execution_count": null,
   "id": "a004a6c3-bf7a-46c0-ae01-fa33fe14090f",
   "metadata": {},
   "outputs": [],
   "source": [
    "# Membuat DataFrame contoh\n",
    "data = {\n",
    "    'A': [1, 2, 3],\n",
    "    'B': [4, 5, 6],\n",
    "    'C': [7, 8, 9]\n",
    "}\n",
    "df = pd.DataFrame(data, index=['x', 'y', 'z'])\n",
    "\n",
    "# Mengakses baris dengan label 'y'\n",
    "print(\"\\nBaris dengan label 'y':\")\n",
    "print(df.loc['y'])\n",
    "\n",
    "# Mengakses beberapa baris dan kolom\n",
    "print(\"\\nBaris 'x' dan 'z', kolom 'A' dan 'B':\")\n",
    "print(df.loc[['x', 'z'], ['A', 'B']])"
   ]
  },
  {
   "cell_type": "markdown",
   "id": "8c760ab4-57b5-489d-bf87-608d6b614500",
   "metadata": {},
   "source": [
    "## 2. iloc\n",
    "iloc digunakan untuk mengakses data berdasarkan posisi integer (indeks numerik) dari baris dan kolom.\n",
    "Ini cocok untuk ketika kamu ingin memilih data berdasarkan posisi, bukan label."
   ]
  },
  {
   "cell_type": "code",
   "execution_count": null,
   "id": "f94cbcc2-87a1-4fd9-aff8-7dd23a433733",
   "metadata": {},
   "outputs": [],
   "source": [
    "# Mengakses baris pertama (indeks 0)\n",
    "print(\"\\nBaris pertama (indeks 0):\")\n",
    "print(df.iloc[0])\n",
    "\n",
    "# Mengakses beberapa baris dan kolom menggunakan posisi\n",
    "print(\"\\nBaris 0 dan 2, kolom 0 dan 1:\")\n",
    "print(df.iloc[[0, 2], [0, 1]])"
   ]
  },
  {
   "cell_type": "markdown",
   "id": "e6f4e242-575f-49d3-a884-a43c92eacca9",
   "metadata": {},
   "source": [
    "# Penambahan Nilai dan Penukaran Nilai"
   ]
  },
  {
   "cell_type": "code",
   "execution_count": null,
   "id": "c6d05d3d-3d31-4cf1-a233-d0ac9f1e0515",
   "metadata": {},
   "outputs": [],
   "source": [
    "# Membuat DataFrame\n",
    "data = {'A': [1, 2, 3], 'B': [4, 5, 6]}\n",
    "df = pd.DataFrame(data)\n",
    "# Pertukaran nilai antar kolom\n",
    "df['A'], df['B'] = df['B'], df['A']\n",
    "\n",
    "# Membuat DataFrame baru\n",
    "data = {'A': [1, 2, 3], 'B': [4, 5, 6]}\n",
    "df = pd.DataFrame(data)\n",
    "# Pertukaran nilai antar baris (misal baris 0 dan baris 1)\n",
    "df.loc[0], df.loc[1] = df.loc[1], df.loc[0]\n",
    "\n",
    "-----------------------------------------------------------------------------------------------------\n",
    "\n",
    "# Penambahan nilai ke kolom A dan B\n",
    "df['A'] += 2  # Menambahkan 2 ke semua elemen di kolom A\n",
    "df['B'] += 3  # Menambahkan 3 ke semua elemen di kolom B\n"
   ]
  },
  {
   "cell_type": "markdown",
   "id": "8abcec58-b8cb-43c8-b632-0244578bd1d0",
   "metadata": {},
   "source": [
    "# Ukuran"
   ]
  },
  {
   "cell_type": "code",
   "execution_count": null,
   "id": "ceb77f3f-afb2-4432-b17b-e9e8a9b8cc96",
   "metadata": {},
   "outputs": [],
   "source": [
    "df.shape\n",
    "\n",
    "df = pd.DataFrame(data)\n",
    "\n",
    "# Memeriksa panjang dari setiap kolom\n",
    "lengths = df.apply(len)\n",
    "\n",
    "# Memeriksa panjang setiap elemen dalam kolom 'Name'\n",
    "name_lengths = df['Name'].str.len()\n",
    "\n",
    "# Memeriksa panjang dari setiap elemen string di semua kolom\n",
    "string_lengths = df.select_dtypes(include=['object']).apply(lambda x: x.str.len())"
   ]
  },
  {
   "cell_type": "markdown",
   "id": "c973451b-05f2-4fd5-b320-7e4ba70e567c",
   "metadata": {},
   "source": [
    "# Append, concat dan Joint"
   ]
  },
  {
   "cell_type": "code",
   "execution_count": null,
   "id": "52fa38c4-6bf2-4edd-b682-f80e2a7470c6",
   "metadata": {},
   "outputs": [],
   "source": [
    "# Data baru yang ingin di-append\n",
    "new_data = {'Name': 'David', 'Age': 28, 'Salary': 55000.0}\n",
    "# Menambahkan data baru ke DataFrame\n",
    "df = df.append(new_data, ignore_index=True)\n",
    "\n",
    "-----------------------------------------------------------------------------------------------------\n",
    "\n",
    "# DataFrame pertama\n",
    "data1 = {\n",
    "    'Name': ['Alice', 'Bob'],\n",
    "    'Age': [25, 30],\n",
    "    'Salary': [50000.0, 60000.5]\n",
    "}\n",
    "# DataFrame kedua\n",
    "data2 = {\n",
    "    'Name': ['Charlie', 'David'],\n",
    "    'Age': [35, 28],\n",
    "    'Salary': [70000.3, 55000.0]\n",
    "}\n",
    "df1 = pd.DataFrame(data1)\n",
    "df2 = pd.DataFrame(data2)\n",
    "# Menggabungkan df1 dan df2 secara vertikal (menambahkan baris)\n",
    "df_concat = pd.concat([df1, df2], ignore_index=True)\n",
    "# Menggabungkan df1 dan df2 secara horizontal (menambahkan kolom)\n",
    "df_concat = pd.concat([df1, df2], axis=1)\n",
    "\n",
    "df1 = pd.DataFrame(data1, index=[0, 1])\n",
    "df2 = pd.DataFrame(data2, index=[1, 2])\n",
    "# Menggabungkan dengan indeks yang berbeda\n",
    "df_concat = pd.concat([df1, df2], axis=1)\n",
    "\n",
    "-----------------------------------------------------------------------------------------------------\n",
    "\n",
    "\n",
    "# Data baru dalam bentuk list of dictionaries\n",
    "new_data_multiple = [\n",
    "    {'Name': 'Eva', 'Age': 26, 'Salary': 48000.0},\n",
    "    {'Name': 'Frank', 'Age': 40, 'Salary': 72000.0}\n",
    "]\n",
    "# Menambahkan beberapa baris data baru\n",
    "df = df.append(new_data_multiple, ignore_index=True)"
   ]
  },
  {
   "cell_type": "markdown",
   "id": "239d5241-eb90-42b1-b3db-e8a2f59854e2",
   "metadata": {},
   "source": [
    "# Memeriksa Missing Values"
   ]
  },
  {
   "cell_type": "code",
   "execution_count": null,
   "id": "7c3c4fda-3900-4450-8799-e1c0c4363807",
   "metadata": {},
   "outputs": [],
   "source": [
    "df.isnull().sum()\n"
   ]
  },
  {
   "cell_type": "markdown",
   "id": "0fa92cc1-b112-43dd-ab7d-52788416cdd2",
   "metadata": {},
   "source": [
    "# Tipe Data"
   ]
  },
  {
   "cell_type": "code",
   "execution_count": null,
   "id": "cacafe10-4f6f-4f72-9616-11f9bb97cbba",
   "metadata": {},
   "outputs": [],
   "source": [
    "object_df = df.select_dtypes(include=['object'])\n",
    "numeric_df = df.select_dtypes(include=['number'])\n",
    "int_columns = df.select_dtypes(include='int')\n",
    "float_columns = df.select_dtypes(include='float')\n",
    "bool_columns = df.select_dtypes(include='bool')\n",
    "\n",
    "int_float_columns = df.select_dtypes(include=['int', 'float'])\n",
    "\n",
    "-----------------------------------------------------------------------------------------------------\n",
    "\n",
    "no_object_columns = df.select_dtypes(exclude='object')\n"
   ]
  },
  {
   "cell_type": "markdown",
   "id": "73993f28-0fe7-4787-a51c-107b686b4252",
   "metadata": {},
   "source": [
    "# Distribusi Data Kategorikal"
   ]
  },
  {
   "cell_type": "code",
   "execution_count": null,
   "id": "76f406b4-11fb-42ff-bdc1-208655cb3c9e",
   "metadata": {},
   "outputs": [],
   "source": [
    "df['nama_kolom'].value_counts()\n",
    "\n",
    "------------------------------------------------------------------------------------------------------\n",
    "\n",
    "# Menghitung frekuensi dengan normalisasi (proporsi)\n",
    "frekuensi_nama_normalized = df['Nama'].value_counts(normalize=True)\n",
    "print(\"\\nFrekuensi Normalized Nama:\")\n",
    "print(frekuensi_nama_normalized)\n",
    "\n",
    "#Menghitung frekuensi nilai dalam kolom dengan normalisasi berarti kita \n",
    "#menghitung proporsi setiap nilai unik dibandingkan dengan total jumlah nilai dalam kolom tersebut. \n",
    "#Dengan cara ini, kita dapat memahami seberapa sering setiap nilai muncul relatif terhadap jumlah total entri."
   ]
  },
  {
   "cell_type": "markdown",
   "id": "6b421d5e-3a31-4bbe-b0a0-72c221ec9e83",
   "metadata": {},
   "source": [
    "# Visualisasi Korelasi antar Kolom Numerik"
   ]
  },
  {
   "cell_type": "code",
   "execution_count": null,
   "id": "4e6cbbc9-357b-40d8-8217-574d0d072bc5",
   "metadata": {},
   "outputs": [],
   "source": [
    "# Membuat heatmap\n",
    "plt.figure(figsize=(10, 8))\n",
    "sns.heatmap(correlation_matrix, annot=True, cmap='coolwarm', square=True, fmt='.2f')\n",
    "plt.title('Matriks Korelasi')\n",
    "plt.show()\n",
    "\n",
    "#annot=True: Menampilkan nilai korelasi di setiap sel.\n",
    "#cmap='coolwarm': Mengatur skema warna untuk heatmap.\n",
    "#square=True: Mengatur setiap sel menjadi bentuk persegi.\n",
    "#fmt='.2f': Mengatur format tampilan angka hingga dua desimal.\n",
    "------------------------------------------------------------------------------------------------------\n",
    "\n",
    "correlation_matrix = df.corr()\n"
   ]
  },
  {
   "cell_type": "markdown",
   "id": "f2861e60-0f22-4b75-9285-819baa96bc68",
   "metadata": {},
   "source": [
    "# Distribusi Kolom Numerik"
   ]
  },
  {
   "cell_type": "code",
   "execution_count": null,
   "id": "e708af76-f59e-4d25-bcec-c72afd4c5dd5",
   "metadata": {},
   "outputs": [],
   "source": [
    "sns.histplot(df['nama_kolom'], bins=30, kde=True)\n",
    "plt.show()\n",
    "\n",
    "------------------------------------------------------------------------------------------------------\n",
    "\n",
    "# Mengatur seed untuk reproducibility\n",
    "np.random.seed(42)\n",
    "# Membuat DataFrame contoh dengan data acak\n",
    "data = {\n",
    "    'Umur': np.random.randint(18, 60, size=1000)  # 1000 data umur antara 18 dan 60\n",
    "}\n",
    "df = pd.DataFrame(data)\n",
    "# Membuat histogram dengan KDE\n",
    "plt.figure(figsize=(10, 6))\n",
    "sns.histplot(df['Umur'], bins=30, kde=True, color='blue')\n",
    "plt.title('Histogram Umur dengan KDE')\n",
    "plt.xlabel('Umur')\n",
    "plt.ylabel('Frekuensi')\n",
    "plt.show()\n",
    "\n",
    "#plt.figure(figsize=(10, 6)): Mengatur ukuran figure untuk plot.\n",
    "#sns.histplot():\n",
    "#df['Umur']: Kolom yang digunakan untuk membuat histogram.\n",
    "#bins=30: Menentukan jumlah bin dalam histogram. Semakin banyak bin, semakin detail histogram yang dihasilkan.\n",
    "#kde=True: Menambahkan garis KDE ke histogram, yang membantu menggambarkan distribusi data.\n",
    "#color='blue': Mengatur warna histogram.\n",
    "#plt.title(), plt.xlabel(), plt.ylabel(): Menambahkan judul dan label pada sumbu x dan y.\n",
    "\n",
    "#Histogram: Menggambarkan frekuensi kemunculan nilai-nilai umur dalam bin yang ditentukan. \n",
    "#Setiap bar menunjukkan jumlah data yang jatuh dalam rentang umur tertentu.\n",
    "\n",
    "#Garis KDE: Menunjukkan pola distribusi data. Jika garis KDE mendekati bentuk lonceng, itu menunjukkan distribusi normal. \n",
    "#Jika ada puncak atau ketidakteraturan, itu menunjukkan distribusi yang lebih kompleks."
   ]
  },
  {
   "cell_type": "markdown",
   "id": "98f74f61-9e78-4320-9574-2c449744f249",
   "metadata": {},
   "source": [
    "# Mendeteksi Outliers"
   ]
  },
  {
   "cell_type": "code",
   "execution_count": null,
   "id": "f455c960-fb87-476d-ab5e-18b8cee63d01",
   "metadata": {},
   "outputs": [],
   "source": [
    "# Mengatur seed untuk reproducibility\n",
    "np.random.seed(42)\n",
    "# Membuat DataFrame contoh dengan data acak\n",
    "data = {\n",
    "    'Umur': np.random.randint(18, 60, size=1000),  # 1000 data umur antara 18 dan 60\n",
    "    'Pendapatan': np.random.normal(50000, 15000, size=1000)  # Pendapatan dengan distribusi normal\n",
    "}\n",
    "df = pd.DataFrame(data)\n",
    "\n",
    "# Membuat boxplot untuk kolom 'Umur'\n",
    "plt.figure(figsize=(10, 6))\n",
    "sns.boxplot(x=df['Umur'])\n",
    "plt.title('Boxplot Umur')\n",
    "plt.xlabel('Umur')\n",
    "plt.show()"
   ]
  },
  {
   "cell_type": "markdown",
   "id": "6958df34-a208-4e67-904c-15ae00fc713f",
   "metadata": {},
   "source": [
    "# Boxplot untuk Mendeteksi Outliers"
   ]
  },
  {
   "cell_type": "code",
   "execution_count": null,
   "id": "6798f8df-faea-4992-8b3a-48826502fa09",
   "metadata": {},
   "outputs": [],
   "source": [
    "sns.boxplot(x=df['nama_kolom'])\n",
    "plt.show()\n",
    "\n",
    "-----------------------------------------------------------------------------------------------------0\n",
    "\n",
    "# Mengatur seed untuk reproducibility\n",
    "np.random.seed(42)\n",
    "# Membuat DataFrame contoh dengan data acak\n",
    "data = {\n",
    "    'Umur': np.random.randint(18, 60, size=1000),  # 1000 data umur antara 18 dan 60\n",
    "    'Pendapatan': np.random.normal(50000, 15000, size=1000)  # Pendapatan dengan distribusi normal\n",
    "}\n",
    "df = pd.DataFrame(data)\n",
    "# Membuat boxplot untuk kolom 'Umur'\n",
    "plt.figure(figsize=(10, 6))\n",
    "sns.boxplot(x=df['Umur'])\n",
    "plt.title('Boxplot Umur')\n",
    "plt.xlabel('Umur')\n",
    "plt.show()\n",
    "\n",
    "#plt.figure(figsize=(10, 6)): Mengatur ukuran figure untuk plot.\n",
    "#sns.boxplot(x=df['Umur']):\n",
    "#x=df['Umur']: Menentukan kolom yang ingin divisualisasikan dalam boxplot.\n",
    "#plt.title() dan plt.xlabel(): Menambahkan judul dan label sumbu x untuk plot.\n",
    "\n",
    "#Komponen Boxplot:\n",
    "#Kotak (Box): Menunjukkan interquartile range (IQR), yaitu rentang antara kuartil pertama (Q1) dan kuartil ketiga (Q3). Kotak ini menandakan 50% dari data.\n",
    "#Garis di dalam Kotak: Menunjukkan median (Q2) dari data.\n",
    "#Whiskers: Garis yang memanjang dari kotak hingga nilai maksimum dan minimum yang tidak dianggap sebagai outlier. Biasanya, whiskers menjangkau 1.5 kali IQR dari kuartil.\n",
    "#Titik di Luar Whiskers: Menunjukkan outlier, yaitu nilai yang berada di luar 1.5 kali IQR dari kuartil."
   ]
  },
  {
   "cell_type": "markdown",
   "id": "662b113a-0821-40e6-ba64-1f3f5780b637",
   "metadata": {},
   "source": [
    "# Pairplot untuk Relasi Antar Variabel"
   ]
  },
  {
   "cell_type": "code",
   "execution_count": null,
   "id": "7707011e-a7e9-47b1-8932-e0da5352d086",
   "metadata": {},
   "outputs": [],
   "source": [
    "# Membuat pairplot\n",
    "sns.pairplot(df)\n",
    "plt.suptitle('Pairplot dari DataFrame', y=1.02)  # Menambahkan judul\n",
    "plt.show()\n",
    "\n",
    "#sns.pairplot(df):\n",
    "#Menghasilkan matriks scatter plot untuk setiap pasangan variabel dalam DataFrame df. Setiap scatter plot menunjukkan hubungan antara dua variabel, \n",
    "#sedangkan diagonal menunjukkan distribusi masing-masing variabel.\n",
    "#plt.suptitle(): Menambahkan judul pada plot secara keseluruhan, dengan y=1.02 untuk memindahkan judul sedikit ke atas agar tidak menutupi plot.\n",
    "\n",
    "#Komponen Pairplot:\n",
    "#Scatter Plots: Setiap kotak di bawah diagonal menunjukkan scatter plot antara dua variabel. Ini membantu dalam mengevaluasi hubungan linear atau non-linear antara variabel.\n",
    "#Histogram/Kernel Density Estimation (KDE): Diagonal biasanya menunjukkan distribusi dari setiap variabel, yang bisa berupa histogram atau KDE, memberikan gambaran tentang sebaran nilai."
   ]
  },
  {
   "cell_type": "markdown",
   "id": "f65cbbc5-fda3-4c40-8673-162402dd5990",
   "metadata": {},
   "source": [
    "# Pivot Table / Crosstab untuk Data Kategorikal"
   ]
  },
  {
   "cell_type": "code",
   "execution_count": null,
   "id": "459ae478-be2d-4fba-9b6d-8fb7996cff96",
   "metadata": {},
   "outputs": [],
   "source": [
    "pd.crosstab(df['kolom1'], df['kolom2'])\n"
   ]
  },
  {
   "cell_type": "markdown",
   "id": "ad2ac72b-0618-488e-a42c-fec55bd65da6",
   "metadata": {},
   "source": [
    "# Group By untuk Meringkas Data"
   ]
  },
  {
   "cell_type": "code",
   "execution_count": null,
   "id": "ac7f8ded-a363-4b3d-968c-92fe9adbcd9a",
   "metadata": {},
   "outputs": [],
   "source": [
    "df.groupby('nama_kolom').mean()\n",
    "\n",
    "------------------------------------------------------------------------------------------------------\n",
    "\n",
    "# Menggunakan pd.cut untuk membuat kategori\n",
    "df['Kategori'] = pd.cut(df['Umur'], bins=bins, labels=labels, right=False)\n",
    "\n",
    "# Menggunakan pd.qcut untuk membuat kategori berdasarkan kuartil\n",
    "df['Kategori_Qcut'] = pd.qcut(df['Umur'], q=3, labels=['Rendah', 'Sedang', 'Tinggi'])"
   ]
  },
  {
   "cell_type": "markdown",
   "id": "29a3fbb5-9959-4c57-971c-6e725315ddd9",
   "metadata": {},
   "source": [
    "# Mendeteksi Skewness"
   ]
  },
  {
   "cell_type": "code",
   "execution_count": null,
   "id": "32bc8a1d-6ede-41dd-9231-124832d1f05a",
   "metadata": {},
   "outputs": [],
   "source": [
    "df['nama_kolom'].skew()\n"
   ]
  },
  {
   "cell_type": "markdown",
   "id": "65dba64a-e17f-4224-8067-9c37be5606d3",
   "metadata": {},
   "source": [
    "# Melihat Kolom dengan Korelasi Tertinggi"
   ]
  },
  {
   "cell_type": "code",
   "execution_count": null,
   "id": "e9a62c47-4fba-4579-9d9a-f012481c93cb",
   "metadata": {},
   "outputs": [],
   "source": [
    "df.corr()['target'].sort_values(ascending=False)\n"
   ]
  },
  {
   "cell_type": "markdown",
   "id": "d62d4fde-9244-49d3-a4e6-d33cce790bc7",
   "metadata": {},
   "source": [
    "# Visualisasi Variabel Kategorikal dengan Countplot"
   ]
  },
  {
   "cell_type": "code",
   "execution_count": null,
   "id": "bb5557a5-faaf-4e79-90cf-ebca18603ed9",
   "metadata": {},
   "outputs": [],
   "source": [
    "# Membuat count plot untuk kolom 'Kategori'\n",
    "sns.countplot(x='Kategori', data=df, palette='Set2')\n",
    "plt.title('Frekuensi Kategori')\n",
    "plt.xlabel('Kategori')\n",
    "plt.ylabel('Frekuensi')\n",
    "plt.show()\n",
    "\n",
    "\n",
    "#sns.countplot(x='Kategori', data=df, palette='Set2'): \n",
    "#Fungsi countplot() digunakan untuk menghitung dan menggambar jumlah kemunculan setiap kategori dalam kolom 'Kategori'. \n",
    "#Parameter palette='Set2' mengatur warna batang.\n",
    "#plt.title(), plt.xlabel(), plt.ylabel(): Menambahkan judul dan label sumbu untuk memberikan konteks yang lebih baik pada plot.\n",
    "\n",
    "#Kegunaan\n",
    "#Visualisasi Frekuensi Kategori: Count plot memberikan gambaran yang jelas tentang berapa banyak setiap kategori muncul dalam dataset. Ini membantu dalam memahami distribusi data kategori.\n",
    "\n",
    "#Identifikasi Ketidakseimbangan Kelas: Dalam konteks klasifikasi, count plot memungkinkan Anda untuk mengidentifikasi ketidakseimbangan kelas, yang penting untuk proses pemodelan.\n",
    "\n",
    "#Analisis Data Kategorikal: Count plot berguna untuk analisis data kategorikal dan memberikan informasi yang berharga sebelum melakukan analisis statistik lebih lanjut.\n",
    "\n",
    "#Membandingkan Kategori: Dengan count plot, Anda dapat dengan mudah membandingkan frekuensi antar kategori dalam satu tampilan."
   ]
  },
  {
   "cell_type": "markdown",
   "id": "c13f7db9-b150-4859-8f7d-c6987a601c60",
   "metadata": {},
   "source": [
    "# Histogram untuk Melihat Distribusi Data"
   ]
  },
  {
   "cell_type": "code",
   "execution_count": null,
   "id": "ef2aa146-104f-4ffc-929c-57e15330bf53",
   "metadata": {},
   "outputs": [],
   "source": [
    "df.hist(bins=30, figsize=(15, 10), grid=False)\n",
    "plt.show()\n"
   ]
  },
  {
   "cell_type": "markdown",
   "id": "e69338d5-89de-4490-8e5d-99acee062888",
   "metadata": {},
   "source": [
    "# Bar Plot untuk Variabel Kategorikal"
   ]
  },
  {
   "cell_type": "code",
   "execution_count": null,
   "id": "ea24f5cc-df95-48bf-86e5-2c8944085811",
   "metadata": {},
   "outputs": [],
   "source": [
    "df['nama_kolom'].value_counts().plot(kind='bar', figsize=(10, 5))\n",
    "plt.show()\n"
   ]
  },
  {
   "cell_type": "markdown",
   "id": "e9b0ba7c-1dde-49a7-8b7f-f069fc0989d9",
   "metadata": {},
   "source": [
    "# Scatter Plot untuk Menentukan Hubungan antara Dua Variabel"
   ]
  },
  {
   "cell_type": "code",
   "execution_count": null,
   "id": "6314462e-8ef4-4352-acc5-cb507d618091",
   "metadata": {},
   "outputs": [],
   "source": [
    "# Membuat scatter plot\n",
    "plt.scatter(df['Variabel_X'], df['Variabel_Y'], color='blue', marker='o')\n",
    "plt.xlabel('Variabel X')\n",
    "plt.ylabel('Variabel Y')\n",
    "plt.title('Scatter Plot antara Variabel X dan Y')\n",
    "plt.show()\n",
    "\n",
    "#plt.scatter(df['Variabel_X'], df['Variabel_Y'], color='blue', marker='o'): Fungsi scatter() digunakan untuk menggambar plot sebar. \n",
    "#Parameter color='blue' mengatur warna titik, dan marker='o' menentukan bentuk titik.\n",
    "#plt.xlabel(), plt.ylabel(), plt.title(): Menambahkan label pada sumbu dan judul plot untuk memberikan konteks yang lebih baik.\n",
    "\n",
    "#Kegunaan\n",
    "#Visualisasi Hubungan: Scatter plot membantu dalam memahami hubungan antara dua variabel. Anda dapat melihat apakah ada pola linear atau non-linear, serta hubungan positif atau negatif.\n",
    "\n",
    "#Identifikasi Outlier: Dengan scatter plot, Anda dapat dengan mudah melihat titik yang berada jauh dari pola umum, yang dapat dianggap sebagai outlier.\n",
    "\n",
    "#Pemeriksaan Asumsi Model: Scatter plot sering digunakan untuk memeriksa asumsi linearitas dalam model regresi. Anda dapat memeriksa apakah hubungan antara variabel independent dan dependent tampak linear.\n",
    "\n",
    "#Membandingkan Kategori: Anda dapat menggunakan parameter tambahan, seperti hue dalam Seaborn, untuk menambahkan dimensi lain pada visualisasi, membedakan titik berdasarkan kategori."
   ]
  },
  {
   "cell_type": "markdown",
   "id": "6a36923b-589a-47dd-ab31-e2aed01e0c72",
   "metadata": {},
   "source": [
    "# Handling Missing Data (Fillna)"
   ]
  },
  {
   "cell_type": "code",
   "execution_count": null,
   "id": "ff469625-d151-4c69-b10d-07d0a3452792",
   "metadata": {},
   "outputs": [],
   "source": [
    "df['nama_kolom'].fillna(df['nama_kolom'].mean(), inplace=True)  # Mengisi missing values dengan rata-rata\n"
   ]
  },
  {
   "cell_type": "markdown",
   "id": "6f4982ea-d524-4541-9adc-c4b5292aba3d",
   "metadata": {},
   "source": [
    "# Drop Missing Data"
   ]
  },
  {
   "cell_type": "code",
   "execution_count": null,
   "id": "870b171c-01de-464c-836c-5042b21b7640",
   "metadata": {},
   "outputs": [],
   "source": [
    "df.dropna(inplace=True)\n",
    "\n",
    "#Penjelasan Parameter inplace\n",
    "#inplace=True: Perubahan akan dilakukan langsung pada objek yang ada. Metode tersebut tidak mengembalikan nilai, dan objek asli akan diperbarui.\n",
    "#inplace=False: (default) Perubahan akan diterapkan pada salinan baru dari objek, dan objek asli tetap tidak terpengaruh. \n",
    "#Metode tersebut akan mengembalikan DataFrame atau Series baru dengan perubahan yang diterapkan."
   ]
  },
  {
   "cell_type": "markdown",
   "id": "da4b20c1-f580-4127-9b1a-d245f400fddb",
   "metadata": {},
   "source": [
    "# Melihat Data Unik dalam Kolom Kategorikal"
   ]
  },
  {
   "cell_type": "code",
   "execution_count": null,
   "id": "ef926006-df3d-4652-86f1-7b94a0520db8",
   "metadata": {},
   "outputs": [],
   "source": [
    "df['nama_kolom'].unique()\n",
    "\n",
    "#Metode unique() digunakan untuk mengembalikan array dari nilai-nilai unik yang terdapat dalam kolom. \n",
    "#Ini berguna untuk melihat semua nilai yang berbeda dalam kolom tersebut."
   ]
  },
  {
   "cell_type": "markdown",
   "id": "bf00cf52-b95d-4ec9-bbe3-a831acb714ab",
   "metadata": {},
   "source": [
    "# Memeriksa Jumlah Nilai Unik"
   ]
  },
  {
   "cell_type": "code",
   "execution_count": null,
   "id": "fdc40e11-e0c7-48ea-9af1-df6fd4206b8b",
   "metadata": {},
   "outputs": [],
   "source": [
    "df['nama_kolom'].nunique()\n",
    "\n",
    "#Metode nunique() digunakan untuk menghitung jumlah nilai unik dalam kolom. \n",
    "#Ini memberikan informasi tentang seberapa banyak kategori yang ada dalam data."
   ]
  },
  {
   "cell_type": "markdown",
   "id": "2153a594-b572-4c16-9720-706f3e770c06",
   "metadata": {},
   "source": [
    "# Memfilter Data Berdasarkan Kondisi Tertentu"
   ]
  },
  {
   "cell_type": "code",
   "execution_count": null,
   "id": "e2835f1b-5b97-4e06-8a8f-fadaa43097ff",
   "metadata": {},
   "outputs": [],
   "source": [
    "df_filtered = df[df['nama_kolom'] > nilai_tertentu]\n"
   ]
  },
  {
   "cell_type": "markdown",
   "id": "626ef9a4-f99c-4434-8b36-aa793f4a60fa",
   "metadata": {},
   "source": [
    "# Boxplot untuk Membandingkan Distribusi antar Kelompok"
   ]
  },
  {
   "cell_type": "code",
   "execution_count": null,
   "id": "e20be863-5e5d-4c3e-afb8-6424103c1b88",
   "metadata": {},
   "outputs": [],
   "source": [
    "# Membuat box plot untuk variabel kategorikal dan numerik\n",
    "sns.boxplot(x='Kategori', y='Nilai', data=df, palette='Set3')\n",
    "plt.title('Box Plot Nilai berdasarkan Kategori')\n",
    "plt.xlabel('Kategori')\n",
    "plt.ylabel('Nilai')\n",
    "plt.show()\n",
    "\n",
    "\n",
    "#sns.boxplot(x='Kategori', y='Nilai', data=df, palette='Set3'): \n",
    "#Fungsi boxplot() digunakan untuk menggambar box plot yang menunjukkan distribusi nilai untuk setiap kategori. \n",
    "#Parameter palette='Set3' mengatur warna box plot.\n",
    "#plt.title(), plt.xlabel(), plt.ylabel(): Menambahkan judul dan label sumbu untuk memberikan konteks yang lebih baik pada plot.\n",
    "\n",
    "#Kegunaan\n",
    "#Visualisasi Distribusi Data: Box plot memberikan ringkasan visual dari distribusi data, termasuk median, kuartil, dan rentang interkuartil, serta mengidentifikasi outlier.\n",
    "\n",
    "#Perbandingan Antar Kategori: Box plot memudahkan perbandingan distribusi nilai antar kategori, memungkinkan Anda untuk melihat perbedaan dalam sebaran dan pusat data.\n",
    "\n",
    "#Deteksi Outlier: Box plot secara otomatis menandai outlier, yaitu nilai yang jauh dari rentang normal, yang penting untuk analisis data.\n",
    "\n",
    "#Memahami Variabilitas: Box plot memberikan wawasan tentang variabilitas dalam data, membantu Anda memahami seberapa besar variasi nilai di dalam setiap kategori."
   ]
  },
  {
   "cell_type": "markdown",
   "id": "3586409b-ba6e-4a58-a11b-17f2583483cd",
   "metadata": {},
   "source": [
    "# Mengelompokkan Data dengan Quantiles"
   ]
  },
  {
   "cell_type": "code",
   "execution_count": null,
   "id": "1dde88c2-7455-4d07-af65-ba463c53e3d7",
   "metadata": {},
   "outputs": [],
   "source": [
    "df['quantile_kolom'] = pd.qcut(df['nama_kolom'], q=4)  # Membuat quartile (4 kelompok)\n"
   ]
  },
  {
   "cell_type": "markdown",
   "id": "4f63e737-0382-4c7e-aa1d-cbd4273a434b",
   "metadata": {},
   "source": [
    "# Pivot Table untuk Agregasi Data"
   ]
  },
  {
   "cell_type": "code",
   "execution_count": null,
   "id": "e4e775c3-e6aa-4535-aa04-7bad947dbaff",
   "metadata": {},
   "outputs": [],
   "source": [
    "# Membuat pivot table untuk menghitung rata-rata nilai berdasarkan kategori\n",
    "pivot_df = df.pivot_table(values='Nilai', index='Kategori', aggfunc='mean')\n",
    "# Menampilkan pivot table\n",
    "print(\"\\nPivot Table (Rata-rata Nilai berdasarkan Kategori):\")\n",
    "print(pivot_df)\n",
    "\n",
    "\n",
    "#df.pivot_table(values='Nilai', index='Kategori', aggfunc='mean'):\n",
    "#values='Nilai': Menentukan kolom yang akan dihitung agregatnya (dalam hal ini, 'Nilai').\n",
    "#index='Kategori': Menentukan kolom yang akan digunakan untuk mengelompokkan data (dalam hal ini, 'Kategori').\n",
    "#aggfunc='mean': Menentukan fungsi agregasi yang akan digunakan (dalam hal ini, menghitung rata-rata).\n",
    "\n",
    "#Kegunaan\n",
    "#Agregasi Data: Pivot table memungkinkan Anda untuk dengan mudah melakukan agregasi data berdasarkan satu atau lebih kategori, membuat analisis lebih terstruktur.\n",
    "\n",
    "#Ringkasan Data: Dengan menggunakan pivot table, Anda dapat membuat ringkasan data yang lebih mudah dibaca dan dipahami, yang penting untuk presentasi atau laporan.\n",
    "\n",
    "#Analisis Multi-Dimensi: Anda dapat membuat pivot table yang lebih kompleks dengan menambahkan lebih banyak indeks atau kolom, memungkinkan analisis yang lebih mendalam dari data.\n",
    "\n",
    "#Menggali Wawasan: Pivot table membantu dalam menggali wawasan dari data, seperti rata-rata, jumlah, atau statistik lainnya yang relevan dengan kategori tertentu."
   ]
  },
  {
   "cell_type": "markdown",
   "id": "3252a80e-883f-44e2-8673-bf12aa2f8df2",
   "metadata": {},
   "source": [
    "# Heatmap dari Missing Values"
   ]
  },
  {
   "cell_type": "code",
   "execution_count": null,
   "id": "26e078de-1e74-4140-9b49-c6ae012d78ed",
   "metadata": {},
   "outputs": [],
   "source": [
    "# Membuat heatmap untuk nilai-nilai hilang\n",
    "plt.figure(figsize=(10, 6))\n",
    "sns.heatmap(df.isnull(), cbar=False, cmap='viridis')\n",
    "plt.title('Visualisasi Nilai Hilang dalam DataFrame')\n",
    "plt.xlabel('Kolom')\n",
    "plt.ylabel('Indeks')\n",
    "plt.show()\n",
    "\n",
    "#df.isnull(): Mengembalikan DataFrame dengan nilai boolean, di mana True menunjukkan bahwa nilai tersebut hilang (NaN) dan False menunjukkan nilai yang ada.\n",
    "#sns.heatmap(): Menggambar heatmap berdasarkan DataFrame boolean dari nilai hilang. Parameter yang digunakan:\n",
    "#cbar=False: Menghilangkan color bar (legenda warna) karena tidak diperlukan.\n",
    "#cmap='viridis': Menentukan colormap yang digunakan untuk memvisualisasikan data. 'viridis' adalah palet warna yang baik untuk visualisasi.\n",
    "#plt.title(), plt.xlabel(), plt.ylabel(): Menambahkan judul dan label pada sumbu untuk memperjelas informasi yang ditampilkan.\n",
    "\n"
   ]
  },
  {
   "cell_type": "markdown",
   "id": "f8eaff2d-3d9c-4f13-959a-3ee11d8a7fd8",
   "metadata": {},
   "source": [
    "# Menambahkan Kolom Baru Berdasarkan Operasi"
   ]
  },
  {
   "cell_type": "code",
   "execution_count": null,
   "id": "b988bd40-9ca5-4e35-9563-416c0df69139",
   "metadata": {},
   "outputs": [],
   "source": [
    "df['kolom_baru'] = df['kolom1'] + df['kolom2']  # Contoh: penjumlahan dua kolom\n"
   ]
  },
  {
   "cell_type": "markdown",
   "id": "cd89b566-6f5e-4f90-b42c-f98c6e697959",
   "metadata": {},
   "source": [
    "# Encoding Data Kategorikal (One-Hot Encoding)"
   ]
  },
  {
   "cell_type": "code",
   "execution_count": null,
   "id": "ecb2b157-feed-4570-941d-fe94b06fb014",
   "metadata": {},
   "outputs": [],
   "source": [
    "df_encoded = pd.get_dummies(df, columns=['nama_kolom_kategorikal'])\n"
   ]
  },
  {
   "cell_type": "markdown",
   "id": "29e2c11c-aa56-4eec-bee1-dfdce9f31f50",
   "metadata": {},
   "source": [
    "# Memeriksa Korelasi yang Signifikan"
   ]
  },
  {
   "cell_type": "code",
   "execution_count": null,
   "id": "8c7c39ce-3cad-4b98-a86c-84fe81388339",
   "metadata": {},
   "outputs": [],
   "source": [
    "# Menghitung matriks korelasi\n",
    "corr_matrix = df.corr()\n",
    "# Memfilter korelasi tinggi (> 0.7)\n",
    "high_corr = corr_matrix[corr_matrix > 0.7]\n",
    "# Menampilkan matriks korelasi\n",
    "print(\"\\nMatriks Korelasi Tinggi:\")\n",
    "print(high_corr)\n",
    "\n",
    "# Membuat heatmap untuk matriks korelasi tinggi\n",
    "sns.heatmap(high_corr, annot=True, cmap='coolwarm', mask=high_corr.isnull())\n",
    "plt.title('Heatmap Korelasi Tinggi')\n",
    "plt.show()\n",
    "\n",
    "#df.corr(): Menghitung matriks korelasi antara kolom-kolom numerik dalam DataFrame.\n",
    "#high_corr = corr_matrix[corr_matrix > 0.7]: Memfilter matriks korelasi untuk hanya menampilkan nilai yang lebih besar dari 0.7.\n",
    "#sns.heatmap(high_corr, annot=True, cmap='coolwarm', mask=high_corr.isnull()):\n",
    "#annot=True: Menampilkan nilai korelasi di setiap sel heatmap.\n",
    "#cmap='coolwarm': Menentukan palet warna untuk heatmap.\n",
    "#mask=high_corr.isnull(): Menyembunyikan sel yang tidak memiliki korelasi (NaN).\n",
    "\n",
    "#Kegunaan\n",
    "#Identifikasi Hubungan: Heatmap membantu dalam mengidentifikasi hubungan antara variabel dalam dataset. Anda dapat dengan cepat melihat variabel mana yang berkorelasi kuat satu sama lain.\n",
    "\n",
    "#Penyaringan Variabel: Dengan mengetahui variabel mana yang berkorelasi tinggi, Anda dapat membuat keputusan yang lebih baik dalam pemilihan fitur untuk pemodelan.\n",
    "\n",
    "#Deteksi Multikolinearitas: Dalam konteks regresi, memahami korelasi antara fitur sangat penting untuk mendeteksi multikolinearitas, yang dapat mempengaruhi model.\n",
    "\n",
    "#Visualisasi yang Informatif: Heatmap memberikan cara visual yang mudah dipahami untuk menganalisis korelasi data, membuat informasi lebih mudah disampaikan."
   ]
  },
  {
   "cell_type": "markdown",
   "id": "8ed9b88a-8d42-4e73-ba81-14596abab2c0",
   "metadata": {},
   "source": [
    "# Menghitung Z-Score untuk Deteksi Outliers"
   ]
  },
  {
   "cell_type": "code",
   "execution_count": null,
   "id": "9e98244d-55e1-4b79-82dd-e3bdcab8b287",
   "metadata": {},
   "outputs": [],
   "source": [
    "from scipy import stats\n",
    "df['zscore'] = stats.zscore(df['nama_kolom'])\n",
    "df_outliers = df[df['zscore'].abs() > 3]\n",
    "\n",
    "#stats.zscore(df['Pendapatan']): Menghitung Z-score untuk setiap nilai dalam kolom 'Pendapatan'. \n",
    "#Hasilnya adalah kolom baru 'zscore' yang menunjukkan seberapa jauh setiap pendapatan dari rata-rata dalam satuan deviasi standar.\n",
    "#df[df['zscore'].abs() > 3]: Memfilter DataFrame untuk menemukan semua baris di mana nilai Z-score absolut lebih besar dari 3, yang menunjukkan outlier.\n",
    "\n",
    "#Kegunaan\n",
    "#Deteksi Outlier: Z-score adalah metode yang efektif untuk mendeteksi outlier dalam dataset. Ini membantu dalam memahami data dengan lebih baik dan mengidentifikasi nilai-nilai yang mungkin tidak normal.\n",
    "\n",
    "#Pembersihan Data: Mengidentifikasi outlier memungkinkan Anda untuk memutuskan apakah akan menghapus atau menyesuaikan nilai-nilai tersebut agar analisis lebih akurat.\n",
    "\n",
    "#Analisis Statistik: Dalam banyak analisis statistik, kehadiran outlier dapat mempengaruhi hasil, seperti rata-rata dan deviasi standar. Dengan mendeteksi dan menangani outlier, Anda dapat meningkatkan keakuratan model.\n",
    "\n",
    "#Persiapan Data untuk Modeling: Outlier dapat mengganggu proses pemodelan. Dengan mengidentifikasi dan menangani outlier, Anda dapat meningkatkan kinerja model yang dibangun di atas data tersebut."
   ]
  },
  {
   "cell_type": "markdown",
   "id": "0b4b0b3e-081a-4218-acba-6cd81677e3dd",
   "metadata": {},
   "source": [
    "# Visualisasi Jointplot"
   ]
  },
  {
   "cell_type": "code",
   "execution_count": null,
   "id": "9a9bba62-732a-4433-9be1-2aefaffc558a",
   "metadata": {},
   "outputs": [],
   "source": [
    "# Membuat joint plot untuk variabel X dan Y\n",
    "sns.jointplot(x='Variabel_X', y='Variabel_Y', data=df, kind='scatter', color='blue')\n",
    "plt.suptitle('Joint Plot antara Variabel X dan Y', y=1.02)\n",
    "plt.show()\n",
    "\n",
    "#sns.jointplot(x='Variabel_X', y='Variabel_Y', data=df, kind='scatter', color='blue'):\n",
    "#x='Variabel_X' dan y='Variabel_Y': Menentukan kolom yang akan divisualisasikan.\n",
    "#kind='scatter': Menentukan jenis plot yang akan digunakan (dalam hal ini, scatter plot).\n",
    "#color='blue': Mengatur warna titik dalam scatter plot.\n",
    "#plt.suptitle(): Menambahkan judul utama untuk joint plot.\n",
    "\n",
    "Kegunaan\n",
    "Visualisasi Hubungan: Joint plot membantu dalam memahami hubungan antara dua variabel dengan menunjukkan titik-titik data dan distribusi masing-masing variabel.\n",
    "\n",
    "Analisis Distribusi: Histogram pada sumbu x dan y memberikan gambaran tentang bagaimana data terdistribusi, apakah ada kecenderungan normal, skewness, atau outlier.\n",
    "\n",
    "Identifikasi Pola: Dengan melihat scatter plot, Anda dapat dengan mudah mengidentifikasi pola, tren, atau hubungan antara dua variabel.\n",
    "\n",
    "Kombinasi Informasi: Joint plot menggabungkan informasi dari scatter plot dan histogram, memberikan lebih banyak konteks dalam satu visualisasi.\n"
   ]
  },
  {
   "cell_type": "markdown",
   "id": "cb038e08-b636-4244-80ef-ba484df340e3",
   "metadata": {},
   "source": [
    "# Pairplot dengan Hue untuk Kategori"
   ]
  },
  {
   "cell_type": "code",
   "execution_count": null,
   "id": "5ed53dac-a8eb-466d-b7c2-a9b335911453",
   "metadata": {},
   "outputs": [],
   "source": [
    "# Menggunakan pairplot dengan hue untuk kategori\n",
    "sns.pairplot(df, hue='Kategori', palette='Set1')\n",
    "plt.title('Pairplot dengan Hue berdasarkan Kategori')\n",
    "plt.show()\n",
    "\n",
    "#sns.pairplot(df, hue='Kategori'): Menggunakan fungsi pairplot dari Seaborn untuk membuat matriks plot dari setiap kombinasi fitur di DataFrame df. \n",
    "#Parameter hue='Kategori' digunakan untuk membedakan warna titik berdasarkan nilai di kolom 'Kategori'.\n",
    "#palette='Set1': Mengatur palet warna untuk membedakan kategori.\n",
    "\n",
    "\n",
    "#Kegunaan\n",
    "#Mengeksplorasi Hubungan: Pairplot memungkinkan Anda untuk mengeksplorasi hubungan antar fitur dengan mudah.\n",
    "#Identifikasi Pola: Dengan menggunakan hue, Anda dapat dengan cepat mengidentifikasi pola berdasarkan kategori yang berbeda.\n",
    "#Persiapan untuk Modeling: Memahami hubungan antar fitur dapat membantu dalam memilih fitur yang relevan untuk model."
   ]
  },
  {
   "cell_type": "markdown",
   "id": "3c180b87-0bcd-4058-a041-b9880a7e40a9",
   "metadata": {},
   "source": [
    "# KDE Plot untuk Distribusi Probabilitas"
   ]
  },
  {
   "cell_type": "code",
   "execution_count": null,
   "id": "e945c160-3f6d-4982-b4be-5223ef99b98d",
   "metadata": {},
   "outputs": [],
   "source": [
    "# Membuat plot KDE untuk kolom 'Pendapatan'\n",
    "sns.kdeplot(df['Pendapatan'], shade=True, color='blue')\n",
    "plt.title('Estimasi Kepadatan Kernel untuk Pendapatan')\n",
    "plt.xlabel('Pendapatan')\n",
    "plt.ylabel('Kepadatan')\n",
    "plt.show()\n",
    "\n",
    "#sns.kdeplot(df['Pendapatan'], shade=True, color='blue'): Fungsi kdeplot digunakan untuk menggambar estimasi kepadatan kernel dari kolom 'Pendapatan'. \n",
    "#Parameter shade=True mengisi area di bawah kurva, dan color='blue' mengatur warna kurva.\n",
    "#plt.title(), plt.xlabel(), plt.ylabel(): Mengatur judul dan label sumbu pada plot.\n",
    "\n",
    "#Kegunaan\n",
    "#Visualisasi Distribusi Data: Plot KDE memberikan gambaran yang lebih halus tentang distribusi data dibandingkan histogram, membantu untuk melihat pola distribusi.\n",
    "\n",
    "#Identifikasi Pola dan Outlier: Dengan menggunakan plot KDE, Anda dapat dengan mudah mengidentifikasi pola distribusi, seperti bimodalitas atau keberadaan outlier.\n",
    "\n",
    "#Membandingkan Distribusi: Anda dapat menggambar beberapa plot KDE pada satu grafik untuk membandingkan distribusi dari beberapa kelompok data (misalnya, berdasarkan kategori tertentu).\n",
    "\n",
    "#Persiapan untuk Modeling: Memahami distribusi variabel sangat penting dalam pemodelan statistik dan machine learning, karena ini dapat mempengaruhi pemilihan model dan teknik transformasi data."
   ]
  },
  {
   "cell_type": "markdown",
   "id": "3e3c143b-054d-4ac3-b60e-5717047fc501",
   "metadata": {},
   "source": [
    "# Donwload semua jenis plot"
   ]
  },
  {
   "cell_type": "code",
   "execution_count": null,
   "id": "4d218144-5aaf-45f1-be4e-d1193b0978d4",
   "metadata": {},
   "outputs": [],
   "source": []
  }
 ],
 "metadata": {
  "kernelspec": {
   "display_name": "Python 3 (ipykernel)",
   "language": "python",
   "name": "python3"
  },
  "language_info": {
   "codemirror_mode": {
    "name": "ipython",
    "version": 3
   },
   "file_extension": ".py",
   "mimetype": "text/x-python",
   "name": "python",
   "nbconvert_exporter": "python",
   "pygments_lexer": "ipython3",
   "version": "3.12.4"
  }
 },
 "nbformat": 4,
 "nbformat_minor": 5
}
