{
 "cells": [
  {
   "cell_type": "markdown",
   "id": "d482f2e0-7a68-4a04-8051-0ccccd71e755",
   "metadata": {},
   "source": [
    "# Import"
   ]
  },
  {
   "cell_type": "code",
   "execution_count": null,
   "id": "a51a1365-ed1d-4559-b752-574657978a77",
   "metadata": {},
   "outputs": [],
   "source": [
    "import numpy as np \n",
    "import pandas as pd \n",
    "import seaborn as sns\n",
    "import matplotlib.pyplot as plt \n",
    "%matplotlib inline \n",
    "\n",
    "import warnings\n",
    "warnings.filterwarnings('ignore')"
   ]
  },
  {
   "cell_type": "markdown",
   "id": "c06779a3-8e3c-405d-8e17-869173aa4f2a",
   "metadata": {},
   "source": [
    "## read file"
   ]
  },
  {
   "cell_type": "code",
   "execution_count": null,
   "id": "59bc32c4-9c35-4b6f-b801-d49f1474660c",
   "metadata": {},
   "outputs": [],
   "source": [
    "wine = pd.read_csv('')\n",
    "wine.head()"
   ]
  },
  {
   "cell_type": "markdown",
   "id": "26afe09a-b52d-4657-8b7e-6c7e42502970",
   "metadata": {},
   "source": [
    "## Normalization"
   ]
  },
  {
   "cell_type": "code",
   "execution_count": null,
   "id": "0768ac9a-995d-41a0-83da-f6309767e290",
   "metadata": {},
   "outputs": [],
   "source": [
    "from sklearn import preprocessing\n",
    "\n",
    "#minmax\n",
    "scaler = preprocessing.MinMaxScaler()\n",
    "minmax = scaler.fit_transform(wine)\n",
    "minmax = pd.DataFrame(minmax, columns =['fixed acidity','citric acid','total sulfur dioxide','alcohol'])\n",
    "\n",
    "#standart\n",
    "scaler = preprocessing.StandardScaler()\n",
    "standard = scaler.fit_transform(wine)\n",
    "standard = pd.DataFrame(standard, columns =['fixed acidity','citric acid','total sulfur dioxide','alcohol'])\n",
    "\n",
    "#robust\n",
    "scaler = preprocessing.RobustScaler()\n",
    "robust = scaler.fit_transform(wine)\n",
    "robust = pd.DataFrame(robust, columns =['fixed acidity','citric acid','total sulfur dioxide','alcohol'])\n",
    "\n",
    "# print output\n",
    "print('\\033[1m'+'Without scaling:'+'\\033[0m')\n",
    "display(wine.head())\n",
    "print('*' * 45)\n",
    "print('\\033[1m'+'With minmax scaling:'+'\\033[0m')\n",
    "display(minmax.head())\n",
    "print('*' * 45)\n",
    "print('\\033[1m'+'With standard scaling:'+'\\033[0m')\n",
    "display(standard.head())\n",
    "print('*' * 45 )\n",
    "print('\\033[1m'+'With robust scaling:'+'\\033[0m')\n",
    "display(robust.head())"
   ]
  },
  {
   "attachments": {},
   "cell_type": "markdown",
   "id": "d15b0cef-db26-4796-bde9-4f51c54abc28",
   "metadata": {},
   "source": [
    "## Menampilkan diagram"
   ]
  },
  {
   "cell_type": "code",
   "execution_count": null,
   "id": "157afbe0-a713-4e92-bb15-09733a4acef8",
   "metadata": {},
   "outputs": [],
   "source": [
    "plt.figure(figsize=(15,4))\n",
    "\n",
    "plt.subplot(1,4,1)\n",
    "sns.kdeplot(wine['fixed acidity'], color ='red')\n",
    "sns.kdeplot(wine['citric acid'],  color ='green')\n",
    "sns.kdeplot(wine['total sulfur dioxide'],  color ='blue')\n",
    "sns.kdeplot(wine['alcohol'],  color ='brown')\n",
    "plt.title('Without Scaling')\n",
    "\n",
    "plt.subplot(1,4,4) \n",
    "sns.kdeplot(minmax['fixed acidity'],  color ='red')\n",
    "sns.kdeplot(minmax['citric acid'],  color ='green')\n",
    "sns.kdeplot(minmax['total sulfur dioxide'],  color ='blue')\n",
    "sns.kdeplot(minmax['alcohol'],  color ='brown')\n",
    "plt.title('After Min-Max Scaling')\n",
    "\n",
    "plt.subplot(1,4,3)\n",
    "sns.kdeplot(standard['fixed acidity'], color ='red')\n",
    "sns.kdeplot(standard['citric acid'],  color ='green')\n",
    "sns.kdeplot(standard['total sulfur dioxide'],  color ='blue')\n",
    "sns.kdeplot(standard['alcohol'],  color ='brown')\n",
    "plt.title('After Standard Scaling')\n",
    "\n",
    "plt.subplot(1,4,2)\n",
    "sns.kdeplot(robust['fixed acidity'],  color ='red')\n",
    "sns.kdeplot(robust['citric acid'],  color ='green')\n",
    "sns.kdeplot(robust['total sulfur dioxide'],  color ='blue')\n",
    "sns.kdeplot(robust['alcohol'],  color ='brown')\n",
    "plt.title('After Robust Scaling')\n",
    "\n",
    "\n",
    "plt.tight_layout()\n",
    "plt.show()"
   ]
  },
  {
   "cell_type": "code",
   "execution_count": null,
   "id": "1a7fa0c8-f2b6-4223-8cf2-7ab69a3e7a9a",
   "metadata": {},
   "outputs": [],
   "source": []
  }
 ],
 "metadata": {
  "kernelspec": {
   "display_name": "Python 3 (ipykernel)",
   "language": "python",
   "name": "python3"
  },
  "language_info": {
   "codemirror_mode": {
    "name": "ipython",
    "version": 3
   },
   "file_extension": ".py",
   "mimetype": "text/x-python",
   "name": "python",
   "nbconvert_exporter": "python",
   "pygments_lexer": "ipython3",
   "version": "3.12.3"
  }
 },
 "nbformat": 4,
 "nbformat_minor": 5
}
